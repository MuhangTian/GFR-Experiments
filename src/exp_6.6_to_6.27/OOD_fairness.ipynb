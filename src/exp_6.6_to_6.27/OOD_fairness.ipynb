{
 "cells": [
  {
   "attachments": {},
   "cell_type": "markdown",
   "metadata": {},
   "source": [
    "# Fairness Evaluations on eICU"
   ]
  },
  {
   "cell_type": "code",
   "execution_count": null,
   "metadata": {},
   "outputs": [],
   "source": [
    "import mimic_pipeline.utils as utils\n",
    "import pandas as pd\n",
    "import numpy as np\n",
    "\n",
    "user = input(\"Enter your username: \")\n",
    "password = input(\"Enter your password: \")\n",
    "loader = utils.DataBaseLoader(user=user, password=password, dbname='eicu', schema='eicu')\n",
    "patient_df = loader['patient']\n",
    "patient_df.head()"
   ]
  },
  {
   "attachments": {},
   "cell_type": "markdown",
   "metadata": {},
   "source": [
    "Use dataset not chosen for calibration"
   ]
  },
  {
   "cell_type": "code",
   "execution_count": null,
   "metadata": {},
   "outputs": [],
   "source": [
    "eicu_df = pd.read_csv(\"data/eICU-union-noncali.csv\")\n",
    "print(eicu_df.shape)\n",
    "eicu_df.head()"
   ]
  },
  {
   "cell_type": "code",
   "execution_count": null,
   "metadata": {},
   "outputs": [],
   "source": [
    "eicu_df = eicu_df.merge(patient_df[['gender', 'ethnicity', 'patientunitstayid', 'uniquepid']], on=['patientunitstayid', 'uniquepid'], how='left')\n",
    "print(eicu_df.shape)\n",
    "eicu_df.head()"
   ]
  },
  {
   "cell_type": "code",
   "execution_count": null,
   "metadata": {},
   "outputs": [],
   "source": [
    "eicu_df['ethnicity'].unique()"
   ]
  },
  {
   "cell_type": "code",
   "execution_count": null,
   "metadata": {},
   "outputs": [],
   "source": [
    "eicu_df['gender'].unique()"
   ]
  },
  {
   "cell_type": "code",
   "execution_count": null,
   "metadata": {},
   "outputs": [],
   "source": [
    "print(f\"Unknown Gender: {len(eicu_df[eicu_df['gender'] == 'Unknown'])}\")\n",
    "print(f\"Other Gender: {len(eicu_df[eicu_df['gender'] == 'Other'])}\")"
   ]
  },
  {
   "cell_type": "code",
   "execution_count": null,
   "metadata": {},
   "outputs": [],
   "source": [
    "import joblib\n",
    "from mimic_pipeline.metric import get_calibration_curve, compute_all_metrics\n",
    "from sklearn.metrics import roc_curve, precision_recall_curve, auc, brier_score_loss\n",
    "\n",
    "def metrics_across_groups(eicu_df, method, group_sparsity, exp, type, calibrate=False, rounded=False):\n",
    "    assert type in ['ethnicity', 'gender']\n",
    "    if type == 'ethnicity':\n",
    "        groups = ['Caucasian', 'African American', 'Asian', 'Hispanic', 'Other/Unknown', 'Native American']\n",
    "    else:\n",
    "        groups = ['Female', 'Male']         # exclude other and unknown since they are very few\n",
    "    \n",
    "    for group in groups:\n",
    "        subgroup_df = eicu_df[eicu_df[type] == group]\n",
    "        print(f\"There are {len(subgroup_df)} patients in {group} group ({len(subgroup_df) / len(eicu_df):.2%})\")\n",
    "\n",
    "        if method == 'OASIS':\n",
    "            y_prob = subgroup_df['oasis_prob']\n",
    "            score_name = \"oasis_prob\"\n",
    "        elif method == 'SAPS II':\n",
    "            y_prob = subgroup_df['sapsii_prob']\n",
    "            score_name = \"sapsii_prob\"\n",
    "        elif method == 'APACHE IV':\n",
    "            y_prob = subgroup_df['apache_iv_prob']\n",
    "            score_name = \"apache_iv_prob\"\n",
    "        elif method == 'APACHE IVa':\n",
    "            y_prob = subgroup_df['apache_iva_prob']\n",
    "            score_name = \"apache_iva_prob\"\n",
    "            \n",
    "        X_test, y_test = subgroup_df.drop(['uniquepid', 'patientunitstayid', 'hospital_expire_flag', 'apache_iv_prob', 'apache_iva_prob', 'oasis_prob', 'sapsii_prob', 'ethnicity', 'gender'], axis=1), subgroup_df['hospital_expire_flag']\n",
    "        \n",
    "        if method == 'fasterrisk':\n",
    "            assert group_sparsity is not None\n",
    "            fasterrisk = joblib.load(f\"models/fasterrisk/fasterrisk-{group_sparsity}\")\n",
    "            binarizer = joblib.load(f\"models/fasterrisk/fasterrisk-{group_sparsity}-binarizer\")\n",
    "            calibrator = joblib.load(f\"models/fasterrisk/fasterrisk-{group_sparsity}-calibrator\")\n",
    "            X_test, _ = binarizer.transform(X_test)\n",
    "            y_prob = calibrator.transform(fasterrisk.predict_proba(X_test))\n",
    "        elif method in ['OASIS', 'SAPS II', 'APACHE IV', 'APACHE IVa']:\n",
    "            if calibrate:\n",
    "                calibrator = joblib.load(f\"models/{score_name}-calibrator\")\n",
    "                y_prob = calibrator.transform(y_prob)\n",
    "            pass\n",
    "        else:\n",
    "            assert exp is not None\n",
    "            model = joblib.load(f\"models/{exp}/{method}\")\n",
    "            scaler = joblib.load(f\"models/{exp}/{method}-scaler\")\n",
    "            imputer = joblib.load(f\"models/{exp}/{method}-imputer\")\n",
    "            columns = list(X_test.columns)\n",
    "            X_test = imputer.transform(X_test)\n",
    "            X_test = pd.DataFrame(X_test, columns=columns)\n",
    "            X_test = scaler.transform(X_test)\n",
    "            y_prob = utils.adapt_proba(model.predict_proba(X_test))\n",
    "        \n",
    "        metrics = compute_all_metrics(y_test, y_prob)\n",
    "        print(f\"***** {group} *****\")\n",
    "        if rounded:\n",
    "            print(f\"AUROC: {metrics.auroc:.3f}, AUPRC: {metrics.auprc:.3f}\\nBrier Score: {metrics.brier:.3f}\\nHosmer-Lemeshow H statistics: {metrics.H:.2f}, p: {metrics.p_h:.5}\\nHosmer-Lemeshow C statistics: {metrics.C:.2f}, p: {metrics.p_c:.5}\\nSMR: {metrics.smr:.3f}\\n\")\n",
    "        else:\n",
    "            print(f\"AUROC: {metrics.auroc}, AUPRC: {metrics.auprc}\\nBrier Score: {metrics.brier}\\nHosmer-Lemeshow H statistics: {metrics.H}, p: {metrics.p_h}\\nHosmer-Lemeshow C statistics: {metrics.C}, p: {metrics.p_c}\\nSMR: {metrics.smr}\\n\")"
   ]
  },
  {
   "attachments": {},
   "cell_type": "markdown",
   "metadata": {},
   "source": [
    "## FasterRisk: Group Sparsity 40"
   ]
  },
  {
   "cell_type": "code",
   "execution_count": null,
   "metadata": {},
   "outputs": [],
   "source": [
    "metrics_across_groups(eicu_df, method='fasterrisk', exp=None, group_sparsity=40, type='gender')\n",
    "metrics_across_groups(eicu_df, method='fasterrisk', exp=None, group_sparsity=40, type='ethnicity')"
   ]
  },
  {
   "attachments": {},
   "cell_type": "markdown",
   "metadata": {},
   "source": [
    "## FasterRisk: Group Sparsity 15"
   ]
  },
  {
   "cell_type": "code",
   "execution_count": null,
   "metadata": {},
   "outputs": [],
   "source": [
    "metrics_across_groups(eicu_df, method='fasterrisk', exp=None, group_sparsity=15, type='gender')\n",
    "metrics_across_groups(eicu_df, method='fasterrisk', exp=None, group_sparsity=15, type='ethnicity')"
   ]
  },
  {
   "attachments": {},
   "cell_type": "markdown",
   "metadata": {},
   "source": [
    "## FasterRisk: Group Sparsity 10"
   ]
  },
  {
   "cell_type": "code",
   "execution_count": null,
   "metadata": {},
   "outputs": [],
   "source": [
    "metrics_across_groups(eicu_df, method='fasterrisk', exp=None, group_sparsity=10, type='gender')\n",
    "metrics_across_groups(eicu_df, method='fasterrisk', exp=None, group_sparsity=10, type='ethnicity')"
   ]
  },
  {
   "attachments": {},
   "cell_type": "markdown",
   "metadata": {},
   "source": [
    "## OASIS Calibrated"
   ]
  },
  {
   "cell_type": "code",
   "execution_count": null,
   "metadata": {},
   "outputs": [],
   "source": [
    "metrics_across_groups(eicu_df, method='OASIS', exp=None, group_sparsity=10, type='gender', calibrate=True)\n",
    "metrics_across_groups(eicu_df, method='OASIS', exp=None, group_sparsity=10, type='ethnicity', calibrate=True)"
   ]
  },
  {
   "attachments": {},
   "cell_type": "markdown",
   "metadata": {},
   "source": [
    "## SAPS II Calibrated"
   ]
  },
  {
   "cell_type": "code",
   "execution_count": null,
   "metadata": {},
   "outputs": [],
   "source": [
    "metrics_across_groups(eicu_df, method='SAPS II', exp=None, group_sparsity=10, type='gender', calibrate=True)\n",
    "metrics_across_groups(eicu_df, method='SAPS II', exp=None, group_sparsity=10, type='ethnicity', calibrate=True)"
   ]
  },
  {
   "attachments": {},
   "cell_type": "markdown",
   "metadata": {},
   "source": [
    "## APACHE IV Calibrated"
   ]
  },
  {
   "cell_type": "code",
   "execution_count": null,
   "metadata": {},
   "outputs": [],
   "source": [
    "metrics_across_groups(eicu_df, method='APACHE IV', exp=None, group_sparsity=10, type='gender', calibrate=True)\n",
    "metrics_across_groups(eicu_df, method='APACHE IV', exp=None, group_sparsity=10, type='ethnicity', calibrate=True)"
   ]
  },
  {
   "attachments": {},
   "cell_type": "markdown",
   "metadata": {},
   "source": [
    "## APACHE IVa Calibrated"
   ]
  },
  {
   "cell_type": "code",
   "execution_count": null,
   "metadata": {},
   "outputs": [],
   "source": [
    "metrics_across_groups(eicu_df, method='APACHE IVa', exp=None, group_sparsity=10, type='gender', calibrate=True)\n",
    "metrics_across_groups(eicu_df, method='APACHE IVa', exp=None, group_sparsity=10, type='ethnicity', calibrate=True)"
   ]
  },
  {
   "attachments": {},
   "cell_type": "markdown",
   "metadata": {},
   "source": [
    "## OASIS"
   ]
  },
  {
   "cell_type": "code",
   "execution_count": null,
   "metadata": {},
   "outputs": [],
   "source": [
    "metrics_across_groups(eicu_df, method='OASIS', exp=None, group_sparsity=10, type='gender')\n",
    "metrics_across_groups(eicu_df, method='OASIS', exp=None, group_sparsity=10, type='ethnicity')"
   ]
  },
  {
   "attachments": {},
   "cell_type": "markdown",
   "metadata": {},
   "source": [
    "## SAPS II"
   ]
  },
  {
   "cell_type": "code",
   "execution_count": null,
   "metadata": {},
   "outputs": [],
   "source": [
    "metrics_across_groups(eicu_df, method='SAPS II', exp=None, group_sparsity=10, type='gender')\n",
    "metrics_across_groups(eicu_df, method='SAPS II', exp=None, group_sparsity=10, type='ethnicity')"
   ]
  },
  {
   "attachments": {},
   "cell_type": "markdown",
   "metadata": {},
   "source": [
    "## APACHE IV"
   ]
  },
  {
   "cell_type": "code",
   "execution_count": null,
   "metadata": {},
   "outputs": [],
   "source": [
    "metrics_across_groups(eicu_df, method='APACHE IV', exp=None, group_sparsity=10, type='gender')\n",
    "metrics_across_groups(eicu_df, method='APACHE IV', exp=None, group_sparsity=10, type='ethnicity')"
   ]
  },
  {
   "attachments": {},
   "cell_type": "markdown",
   "metadata": {},
   "source": [
    "## APACHE IVa"
   ]
  },
  {
   "cell_type": "code",
   "execution_count": null,
   "metadata": {},
   "outputs": [],
   "source": [
    "metrics_across_groups(eicu_df, method='APACHE IVa', exp=None, group_sparsity=10, type='gender')\n",
    "metrics_across_groups(eicu_df, method='APACHE IVa', exp=None, group_sparsity=10, type='ethnicity')"
   ]
  },
  {
   "cell_type": "code",
   "execution_count": null,
   "metadata": {},
   "outputs": [],
   "source": [
    "import seaborn as sns\n",
    "import matplotlib.pyplot as plt\n",
    "import joblib\n",
    "from mimic_pipeline.metric import get_calibration_curve, compute_all_metrics\n",
    "\n",
    "plt.rcParams['figure.dpi'] = 300\n",
    "\n",
    "def plot_metrics_across_groups(eicu_df, group_sparsity, figsize=(15,5), fontsize=14, linewidth=1, markersize=5):\n",
    "    sns.set_style('ticks')\n",
    "    fig, axes = plt.subplots(1, 3, figsize=figsize)\n",
    "    sns.lineplot(x=np.linspace(0,1), y=np.linspace(0,1), color='black', linestyle='--', linewidth=linewidth, ax=axes[0])\n",
    "    sns.lineplot(x=np.linspace(0,1), y=np.linspace(0,1), color='black', linestyle='--', linewidth=linewidth, ax=axes[2])\n",
    "    fasterrisk = joblib.load(f\"models/fasterrisk/fasterrisk-{group_sparsity}\")\n",
    "    binarizer = joblib.load(f\"models/fasterrisk/fasterrisk-{group_sparsity}-binarizer\")\n",
    "    calibrator = joblib.load(f\"models/fasterrisk/fasterrisk-{group_sparsity}-calibrator\")\n",
    "    \n",
    "    for gender in ['Female', 'Male']:\n",
    "        subgroup_df = eicu_df[eicu_df['gender'] == gender]\n",
    "        X_test, y_test = subgroup_df.drop(['uniquepid', 'patientunitstayid', 'hospital_expire_flag', 'apache_iv_prob', 'apache_iva_prob', 'oasis_prob', 'sapsii_prob', 'ethnicity', 'gender'], axis=1), subgroup_df['hospital_expire_flag']\n",
    "        X_test, _ = binarizer.transform(X_test)\n",
    "        y_prob = calibrator.transform(fasterrisk.predict_proba(X_test.to_numpy()))\n",
    "        metrics = compute_all_metrics(y_test, y_prob)\n",
    "        sns.lineplot(x=metrics.fpr, y=metrics.tpr, label=gender, linewidth=linewidth, ax=axes[0], errorbar=None)\n",
    "        sns.lineplot(x=metrics.recall, y=metrics.precision, label=gender, linewidth=linewidth, ax=axes[1], errorbar=None)\n",
    "        sns.lineplot(x=metrics.prob_true, y=metrics.prob_pred, label=gender, linewidth=linewidth, ax=axes[2], marker='s', markersize=markersize)\n",
    "    \n",
    "    for ethnicity in ['Caucasian', 'African American', 'Asian', 'Hispanic', 'Other/Unknown', 'Native American']:\n",
    "        subgroup_df = eicu_df[eicu_df['ethnicity'] == ethnicity]\n",
    "        X_test, y_test = subgroup_df.drop(['uniquepid', 'patientunitstayid', 'hospital_expire_flag', 'apache_iv_prob', 'apache_iva_prob', 'oasis_prob', 'sapsii_prob', 'ethnicity', 'gender'], axis=1), subgroup_df['hospital_expire_flag']\n",
    "        X_test, _ = binarizer.transform(X_test)\n",
    "        y_prob = calibrator.transform(fasterrisk.predict_proba(X_test.to_numpy()))\n",
    "        metrics = compute_all_metrics(y_test, y_prob)\n",
    "        sns.lineplot(x=metrics.fpr, y=metrics.tpr, label=ethnicity, linewidth=linewidth, ax=axes[0], errorbar=None)\n",
    "        sns.lineplot(x=metrics.recall, y=metrics.precision, label=ethnicity, linewidth=linewidth, ax=axes[1], errorbar=None)\n",
    "        sns.lineplot(x=metrics.prob_true, y=metrics.prob_pred, label=ethnicity, linewidth=linewidth, ax=axes[2], marker='s', markersize=markersize)\n",
    "    \n",
    "    axes[0].set_ylabel(\"True Positive Rate\", fontsize=fontsize)\n",
    "    axes[0].set_xlabel(\"False Positive Rate\", fontsize=fontsize)\n",
    "    axes[0].tick_params(axis='both', which='major', labelsize=fontsize)\n",
    "    axes[0].get_legend().remove()\n",
    "    \n",
    "    axes[1].set_ylabel(\"Precision\", fontsize=fontsize)\n",
    "    axes[1].set_xlabel(\"Recall\", fontsize=fontsize)\n",
    "    axes[1].tick_params(axis='both', which='major', labelsize=fontsize)\n",
    "    axes[1].get_legend().remove()\n",
    "    \n",
    "    axes[2].set_ylabel(\"Predicted Probability\", fontsize=fontsize)\n",
    "    axes[2].set_xlabel(\"True Probability\", fontsize=fontsize)\n",
    "    axes[2].tick_params(axis='both', which='major', labelsize=fontsize)\n",
    "    axes[2].legend(fontsize=fontsize-3)\n",
    "    \n",
    "    fig.tight_layout()\n",
    "    # plt.show()\n",
    "\n",
    "for e in [10, 15, 40]:\n",
    "    plot_metrics_across_groups(eicu_df, group_sparsity=e, figsize=(21, 7), linewidth=1.5, markersize=8, fontsize=19)\n",
    "    plt.savefig(f'fairness-{e}.pdf', dpi=300, format='pdf')\n",
    "    plt.close()"
   ]
  }
 ],
 "metadata": {
  "kernelspec": {
   "display_name": "474",
   "language": "python",
   "name": "python3"
  },
  "language_info": {
   "codemirror_mode": {
    "name": "ipython",
    "version": 3
   },
   "file_extension": ".py",
   "mimetype": "text/x-python",
   "name": "python",
   "nbconvert_exporter": "python",
   "pygments_lexer": "ipython3",
   "version": "3.9.16"
  },
  "orig_nbformat": 4
 },
 "nbformat": 4,
 "nbformat_minor": 2
}
