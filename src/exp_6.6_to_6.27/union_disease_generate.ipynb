{
 "cells": [
  {
   "attachments": {},
   "cell_type": "markdown",
   "metadata": {},
   "source": [
    "# Datasets for disease specific patients"
   ]
  },
  {
   "cell_type": "code",
   "execution_count": null,
   "metadata": {},
   "outputs": [],
   "source": [
    "import pandas as pd\n",
    "import mimic_pipeline.utils as utils\n",
    "import numpy as np"
   ]
  },
  {
   "cell_type": "code",
   "execution_count": null,
   "metadata": {},
   "outputs": [],
   "source": [
    "user = input(\"Enter your username: \")\n",
    "password = input(\"Enter your password: \")\n",
    "loader = utils.DataBaseLoader(user=user, password=password)"
   ]
  },
  {
   "cell_type": "code",
   "execution_count": null,
   "metadata": {},
   "outputs": [],
   "source": [
    "train = pd.read_csv(\"data/TRAIN-union-features-id.csv\")\n",
    "test = pd.read_csv(\"data/TEST-union-features-id.csv\")\n",
    "whole = pd.concat([train, test], axis=0)\n",
    "whole.head()"
   ]
  },
  {
   "cell_type": "code",
   "execution_count": null,
   "metadata": {},
   "outputs": [],
   "source": [
    "whole.shape"
   ]
  },
  {
   "cell_type": "code",
   "execution_count": null,
   "metadata": {},
   "outputs": [],
   "source": [
    "disease_df = loader['disease_flag']"
   ]
  },
  {
   "attachments": {},
   "cell_type": "markdown",
   "metadata": {},
   "source": [
    "get disease specific flags"
   ]
  },
  {
   "cell_type": "code",
   "execution_count": null,
   "metadata": {},
   "outputs": [],
   "source": [
    "whole_flag_df = whole.merge(disease_df[['hadm_id', 'ami', 'heart_failure', 'akf', 'sepsis']], on='hadm_id', how='left')\n",
    "print(whole_flag_df.shape)\n",
    "whole_flag_df.head()"
   ]
  },
  {
   "attachments": {},
   "cell_type": "markdown",
   "metadata": {},
   "source": [
    "check stays are unique"
   ]
  },
  {
   "cell_type": "code",
   "execution_count": null,
   "metadata": {},
   "outputs": [],
   "source": [
    "len(whole_flag_df['hadm_id'].unique())"
   ]
  },
  {
   "cell_type": "code",
   "execution_count": null,
   "metadata": {},
   "outputs": [],
   "source": [
    "for label in ['ami', 'sepsis', 'akf', 'heart_failure']:\n",
    "    print(whole_flag_df[label].unique())\n",
    "    print(whole_flag_df[label].isna().sum())"
   ]
  },
  {
   "attachments": {},
   "cell_type": "markdown",
   "metadata": {},
   "source": [
    "## Acute Myocardial Infarction (AMI)"
   ]
  },
  {
   "cell_type": "code",
   "execution_count": null,
   "metadata": {},
   "outputs": [],
   "source": [
    "ami_df = whole_flag_df[whole_flag_df['ami'] == 1]\n",
    "print(ami_df.shape)\n",
    "print(f\"Percentage of patients: {len(ami_df)/len(whole_flag_df)*100:.1f}%\")\n",
    "print(f\"Mortality Rate: {ami_df['hospital_expire_flag'].replace({-1: 0}).mean()*100:.1f}%\")"
   ]
  },
  {
   "cell_type": "code",
   "execution_count": null,
   "metadata": {},
   "outputs": [],
   "source": [
    "assert ami_df['ami'].unique() == [1]\n",
    "ami_df = ami_df.drop(['heart_failure', 'akf', 'sepsis', 'ami'], axis=1)\n",
    "ami_df.head()"
   ]
  },
  {
   "cell_type": "code",
   "execution_count": null,
   "metadata": {},
   "outputs": [],
   "source": [
    "ami_df.to_csv(\"data/mimic-disease/ami-union-features-id.csv\", index=False)\n",
    "ami_df = ami_df.drop(['subject_id', 'hadm_id', 'icustay_id'], axis=1)\n",
    "ami_df.head()"
   ]
  },
  {
   "cell_type": "code",
   "execution_count": null,
   "metadata": {},
   "outputs": [],
   "source": [
    "ami_df.to_csv(\"data/mimic-disease/ami-union-features.csv\", index=False)"
   ]
  },
  {
   "attachments": {},
   "cell_type": "markdown",
   "metadata": {},
   "source": [
    "## Sepsis/septicemia"
   ]
  },
  {
   "cell_type": "code",
   "execution_count": null,
   "metadata": {},
   "outputs": [],
   "source": [
    "sepsis_df = whole_flag_df[whole_flag_df['sepsis'] == 1]\n",
    "print(sepsis_df.shape)\n",
    "print(f\"Percentage of patients: {len(sepsis_df)/len(whole_flag_df)*100:.1f}%\")\n",
    "print(f\"Mortality Rate: {sepsis_df['hospital_expire_flag'].replace({-1: 0}).mean()*100:.1f}%\")"
   ]
  },
  {
   "cell_type": "code",
   "execution_count": null,
   "metadata": {},
   "outputs": [],
   "source": [
    "assert sepsis_df['sepsis'].unique() == [1]\n",
    "sepsis_df = sepsis_df.drop(['heart_failure', 'akf', 'ami', 'sepsis'], axis=1)\n",
    "sepsis_df.head()"
   ]
  },
  {
   "cell_type": "code",
   "execution_count": null,
   "metadata": {},
   "outputs": [],
   "source": [
    "sepsis_df.to_csv(\"data/mimic-disease/sepsis-union-features-id.csv\", index=False)\n",
    "sepsis_df = sepsis_df.drop(['subject_id', 'hadm_id', 'icustay_id'], axis=1)\n",
    "sepsis_df.head()"
   ]
  },
  {
   "cell_type": "code",
   "execution_count": null,
   "metadata": {},
   "outputs": [],
   "source": [
    "sepsis_df.to_csv(\"data/mimic-disease/sepsis-union-features.csv\", index=False)"
   ]
  },
  {
   "attachments": {},
   "cell_type": "markdown",
   "metadata": {},
   "source": [
    "## Heart Failure"
   ]
  },
  {
   "cell_type": "code",
   "execution_count": null,
   "metadata": {},
   "outputs": [],
   "source": [
    "heart_failure_df = whole_flag_df[whole_flag_df['heart_failure'] == 1]\n",
    "print(heart_failure_df.shape)\n",
    "print(f\"Percentage of patients: {len(heart_failure_df)/len(whole_flag_df)*100:.1f}%\")\n",
    "print(f\"Mortality Rate: {heart_failure_df['hospital_expire_flag'].replace({-1: 0}).mean()*100:.1f}%\")"
   ]
  },
  {
   "cell_type": "code",
   "execution_count": null,
   "metadata": {},
   "outputs": [],
   "source": [
    "assert heart_failure_df['heart_failure'].unique() == [1]\n",
    "heart_failure_df = heart_failure_df.drop(['sepsis', 'akf', 'ami', 'heart_failure'], axis=1)\n",
    "heart_failure_df.head()"
   ]
  },
  {
   "cell_type": "code",
   "execution_count": null,
   "metadata": {},
   "outputs": [],
   "source": [
    "heart_failure_df.to_csv(\"data/mimic-disease/heart_failure-union-features-id.csv\", index=False)\n",
    "heart_failure_df = heart_failure_df.drop(['subject_id', 'hadm_id', 'icustay_id'], axis=1)\n",
    "heart_failure_df.head()"
   ]
  },
  {
   "cell_type": "code",
   "execution_count": null,
   "metadata": {},
   "outputs": [],
   "source": [
    "heart_failure_df.to_csv(\"data/mimic-disease/heart_failure-union-features.csv\", index=False)"
   ]
  },
  {
   "attachments": {},
   "cell_type": "markdown",
   "metadata": {},
   "source": [
    "## Acute Kidney Failure"
   ]
  },
  {
   "cell_type": "code",
   "execution_count": null,
   "metadata": {},
   "outputs": [],
   "source": [
    "akf_df = whole_flag_df[whole_flag_df['akf'] == 1]\n",
    "print(akf_df.shape)\n",
    "print(f\"Percentage of patients: {len(akf_df)/len(whole_flag_df)*100:.1f}%\")\n",
    "print(f\"Mortality Rate: {akf_df['hospital_expire_flag'].replace({-1: 0}).mean()*100:.1f}%\")"
   ]
  },
  {
   "cell_type": "code",
   "execution_count": null,
   "metadata": {},
   "outputs": [],
   "source": [
    "assert akf_df['akf'].unique() == [1]\n",
    "akf_df = akf_df.drop(['sepsis', 'heart_failure', 'ami', 'akf'], axis=1)\n",
    "akf_df.head()"
   ]
  },
  {
   "cell_type": "code",
   "execution_count": null,
   "metadata": {},
   "outputs": [],
   "source": [
    "akf_df.to_csv(\"data/mimic-disease/akf-union-features-id.csv\", index=False)\n",
    "akf_df = akf_df.drop(['subject_id', 'hadm_id', 'icustay_id'], axis=1)\n",
    "akf_df.head()"
   ]
  },
  {
   "cell_type": "code",
   "execution_count": null,
   "metadata": {},
   "outputs": [],
   "source": [
    "akf_df.to_csv(\"data/mimic-disease/akf-union-features.csv\", index=False)"
   ]
  }
 ],
 "metadata": {
  "kernelspec": {
   "display_name": "474",
   "language": "python",
   "name": "python3"
  },
  "language_info": {
   "codemirror_mode": {
    "name": "ipython",
    "version": 3
   },
   "file_extension": ".py",
   "mimetype": "text/x-python",
   "name": "python",
   "nbconvert_exporter": "python",
   "pygments_lexer": "ipython3",
   "version": "3.9.16"
  },
  "orig_nbformat": 4
 },
 "nbformat": 4,
 "nbformat_minor": 2
}
