{
 "cells": [
  {
   "attachments": {},
   "cell_type": "markdown",
   "metadata": {},
   "source": [
    "# Test Traditional Score Baseline for APACHE IV/IVa, SAPS II, OASIS"
   ]
  },
  {
   "cell_type": "code",
   "execution_count": null,
   "metadata": {},
   "outputs": [],
   "source": [
    "import mimic_pipeline as mmp\n",
    "import mimic_pipeline.utils as utils\n",
    "\n",
    "user = input(\"Enter your username: \")\n",
    "password = input(\"Enter your password: \")\n",
    "loader = utils.DataBaseLoader(user=user, password=password, dbname='eicu', schema='eicu')"
   ]
  },
  {
   "cell_type": "code",
   "execution_count": null,
   "metadata": {},
   "outputs": [],
   "source": [
    "apacheiv = loader.query('''\n",
    "                        SELECT pa.uniquepid, apa.*\n",
    "                        FROM patient pa\n",
    "                        LEFT JOIN apachepatientresult apa\n",
    "                            ON apa.patientunitstayid = pa.patientunitstayid\n",
    "                        WHERE apa.apacheversion = 'IV'\n",
    "                        ''')\n",
    "apacheiva = loader.query('''\n",
    "                         SELECT pa.uniquepid, apa.*\n",
    "                         FROM patient pa\n",
    "                         LEFT JOIN apachepatientresult apa\n",
    "                             ON apa.patientunitstayid = pa.patientunitstayid\n",
    "                         WHERE apa.apacheversion = 'IVa'\n",
    "                        ''')"
   ]
  },
  {
   "attachments": {},
   "cell_type": "markdown",
   "metadata": {},
   "source": [
    "check patient group is similar"
   ]
  },
  {
   "cell_type": "code",
   "execution_count": null,
   "metadata": {},
   "outputs": [],
   "source": [
    "import pandas as pd\n",
    "pd.testing.assert_frame_equal(apacheiv[['uniquepid', 'patientunitstayid']], apacheiva[['uniquepid', 'patientunitstayid']])\n",
    "pd.testing.assert_series_equal(apacheiv['actualhospitalmortality'], apacheiva['actualhospitalmortality'])"
   ]
  },
  {
   "cell_type": "code",
   "execution_count": null,
   "metadata": {},
   "outputs": [],
   "source": [
    "apacheiv['patientunitstayid'].isna().sum().sum()"
   ]
  },
  {
   "cell_type": "code",
   "execution_count": null,
   "metadata": {},
   "outputs": [],
   "source": [
    "apacheiv['uniquepid'].isna().sum().sum()"
   ]
  },
  {
   "attachments": {},
   "cell_type": "markdown",
   "metadata": {},
   "source": [
    "## Check Baselines"
   ]
  },
  {
   "cell_type": "code",
   "execution_count": null,
   "metadata": {},
   "outputs": [],
   "source": [
    "baselines_df = loader['baselines']\n",
    "baselines_df.head()"
   ]
  },
  {
   "attachments": {},
   "cell_type": "markdown",
   "metadata": {},
   "source": [
    "check null"
   ]
  },
  {
   "cell_type": "code",
   "execution_count": null,
   "metadata": {},
   "outputs": [],
   "source": [
    "assert all(baselines_df[col].isna().sum().sum() == 0 for col in ['apache_iv_prob', 'apache_iva_prob', 'oasis_prob', 'sapsii_prob', 'uniquepid', 'patientunitstayid'])"
   ]
  },
  {
   "attachments": {},
   "cell_type": "markdown",
   "metadata": {},
   "source": [
    "check unique patient & first stay"
   ]
  },
  {
   "cell_type": "code",
   "execution_count": null,
   "metadata": {},
   "outputs": [],
   "source": [
    "assert baselines_df['uniquepid'].is_unique\n",
    "assert baselines_df['patientunitstayid'].is_unique"
   ]
  },
  {
   "cell_type": "code",
   "execution_count": null,
   "metadata": {},
   "outputs": [],
   "source": [
    "# patient = loader['patient']\n",
    "# patient = patient.sort_values('hospitaladmitoffset')\n",
    "# first_stay_df = patient.groupby('uniquepid').last().reset_index()\n",
    "first_stay_df = loader.query('''\n",
    "                            with tmp as(\n",
    "                            SELECT patientunitstayid, uniquepid\n",
    "                            , ROW_NUMBER() OVER (PARTITION BY uniquepid ORDER BY hospitaladmitoffset DESC) as rn\n",
    "                            FROM patient\n",
    "                            )\n",
    "                            select patientunitstayid, uniquepid\n",
    "                            from tmp\n",
    "                            where rn = 1\n",
    "                             ''')\n",
    "assert baselines_df['uniquepid'].isin(first_stay_df['uniquepid']).all()\n",
    "assert baselines_df['patientunitstayid'].isin(first_stay_df['patientunitstayid']).all()"
   ]
  },
  {
   "attachments": {},
   "cell_type": "markdown",
   "metadata": {},
   "source": [
    "## Visualize Baselines"
   ]
  },
  {
   "cell_type": "code",
   "execution_count": null,
   "metadata": {},
   "outputs": [],
   "source": [
    "import seaborn as sns\n",
    "import matplotlib.pyplot as plt\n",
    "sns.set_style('white')"
   ]
  },
  {
   "cell_type": "code",
   "execution_count": null,
   "metadata": {},
   "outputs": [],
   "source": [
    "from sklearn.metrics import roc_curve, auc, precision_recall_curve\n",
    "import numpy as np\n",
    "y_true = baselines_df['actualhospitalmortality']\n",
    "for score in ['apache_iv_prob', 'apache_iva_prob', 'oasis_prob', 'sapsii_prob']:\n",
    "    fpr, tpr, _ = roc_curve(y_true, baselines_df[score])\n",
    "    ax = sns.lineplot(x=fpr, y=tpr, label=f\"{score} AUROC: {auc(fpr, tpr):.3f}\")\n",
    "    ax.figure.set_size_inches(8, 8)\n",
    "sns.lineplot(x=np.linspace(0,1), y=np.linspace(0,1), label='Random', linestyle='--', color='black') \n",
    "plt.xlabel('False Positive Rate')\n",
    "plt.ylabel('True Positive Rate')\n",
    "plt.legend()\n",
    "plt.show()"
   ]
  },
  {
   "cell_type": "code",
   "execution_count": null,
   "metadata": {},
   "outputs": [],
   "source": [
    "for score in ['apache_iv_prob', 'apache_iva_prob', 'oasis_prob', 'sapsii_prob']:\n",
    "    precision, recall, _ = precision_recall_curve(y_true, baselines_df[score])\n",
    "    ax = sns.lineplot(x=recall, y=precision, label=f\"{score} AUPRC: {auc(recall, precision):.3f}\")\n",
    "    ax.figure.set_size_inches(8, 8)\n",
    "plt.xlabel('Recall')\n",
    "plt.ylabel('Precision')\n",
    "plt.legend()\n",
    "plt.show()"
   ]
  },
  {
   "cell_type": "code",
   "execution_count": null,
   "metadata": {},
   "outputs": [],
   "source": [
    "assert all(baselines_df[col].isna().sum().sum() == 0 for col in ['apache_iv_prob', 'apache_iva_prob', 'oasis_prob', 'sapsii_prob', 'uniquepid', 'patientunitstayid'])"
   ]
  },
  {
   "cell_type": "code",
   "execution_count": null,
   "metadata": {},
   "outputs": [],
   "source": [
    "for score in ['apache_iv_prob', 'apache_iva_prob', 'oasis_prob', 'sapsii_prob']:\n",
    "    sns.histplot(baselines_df[score])\n",
    "    plt.show()"
   ]
  },
  {
   "cell_type": "code",
   "execution_count": null,
   "metadata": {},
   "outputs": [],
   "source": [
    "for score in ['apache_iv_prob', 'apache_iva_prob', 'oasis_prob', 'sapsii_prob']:\n",
    "    prob_true, prob_pred, stat, p = mmp.metric.get_calibration_curve(y_true, baselines_df[score], n_bins=10)\n",
    "    ax = sns.lineplot(x=prob_pred, y=prob_true, label=f\"{score} H stat: {stat:.3f}, p: {p:.3f}\", marker='s')\n",
    "    ax.figure.set_size_inches(8, 8)\n",
    "sns.lineplot(x=np.linspace(0,1), y=np.linspace(0,1), label='Perfect', linestyle='--', color='black') \n",
    "plt.xlabel('Predicted Probability')\n",
    "plt.ylabel('True Probability')\n",
    "plt.legend()\n",
    "plt.show()"
   ]
  }
 ],
 "metadata": {
  "kernelspec": {
   "display_name": "474",
   "language": "python",
   "name": "python3"
  },
  "language_info": {
   "codemirror_mode": {
    "name": "ipython",
    "version": 3
   },
   "file_extension": ".py",
   "mimetype": "text/x-python",
   "name": "python",
   "nbconvert_exporter": "python",
   "pygments_lexer": "ipython3",
   "version": "3.9.16"
  },
  "orig_nbformat": 4
 },
 "nbformat": 4,
 "nbformat_minor": 2
}
