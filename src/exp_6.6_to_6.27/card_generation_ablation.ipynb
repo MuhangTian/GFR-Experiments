{
 "cells": [
  {
   "cell_type": "markdown",
   "metadata": {},
   "source": [
    "# Ablation Studies for Risk Score Generation"
   ]
  },
  {
   "cell_type": "code",
   "execution_count": null,
   "metadata": {},
   "outputs": [],
   "source": [
    "REPLACE_DICT = {\n",
    "    'preiculos': 'Pre-ICU LOS',\n",
    "    'age': 'Age', \n",
    "    'gcs_min': 'Min GCS', \n",
    "    'mechvent': 'Ventilation', \n",
    "    'urineoutput': 'Urine Output', \n",
    "    \n",
    "    'heartrate_min': 'Min Heart Rate',\n",
    "    'heartrate_max': 'Max Heart Rate',\n",
    "    \n",
    "    'meanbp_min': 'Min MBP',\n",
    "    'meanbp_max': 'Max MBP',\n",
    "    \n",
    "    'resprate_min': 'Min Respiratory Rate',\n",
    "    'resprate_max': 'Max Respiratory Rate',\n",
    "    \n",
    "    'tempc_min': 'Min Temperature',\n",
    "    'tempc_max': 'Max Temperature',\n",
    "    \n",
    "    'sysbp_min': 'Min SBP',\n",
    "    'sysbp_max': 'Max SBP',\n",
    "    \n",
    "    'bun_min': 'Min BUN',\n",
    "    'bun_max': 'Max BUN',\n",
    "    \n",
    "    'wbc_min': 'Min WBC',\n",
    "    'wbc_max': 'Max WBC',\n",
    "    \n",
    "    'potassium_min': 'Min Potassium',\n",
    "    'potassium_max': 'Max Potassium',\n",
    "    \n",
    "    'sodium_min': 'Min Sodium',\n",
    "    'sodium_max': 'Max Sodium',\n",
    "    \n",
    "    'bicarbonate_min': 'Min Bicarbonate',\n",
    "    'bicarbonate_max': 'Max Bicarbonate',\n",
    "    \n",
    "    'bilirubin_min': 'Min Bilirubin',\n",
    "    'bilirubin_max': 'Max Bilirubin',\n",
    "    \n",
    "    'hematocrit_min': 'Min Hematocrit',\n",
    "    'hematocrit_max': 'Max Hematocrit',\n",
    "    \n",
    "    'creatinine_min': 'Min Creatinine',\n",
    "    'creatinine_max': 'Max Creatinine',\n",
    "    \n",
    "    'albumin_min': 'Min Albumin',\n",
    "    'albumin_max': 'Max Albumin',\n",
    "    \n",
    "    'glucose_max': 'Max Glucose',\n",
    "    'glucose_min': 'Min Glucose',\n",
    "    \n",
    "    'aids': 'AIDS/HIV',\n",
    "    'hem': 'Hematologic Cancer',\n",
    "    'mets': 'Metastatic Cancer',\n",
    "    \n",
    "    'electivesurgery': 'Elective Surgery',\n",
    "    'pao2fio2_vent_min': 'Min P/F Ratio',\n",
    "    'admissiontype': 'Admission Type',\n",
    "    \n",
    "    'pao2_max': 'Max PaO2',\n",
    "    'pao2_min': 'Min PaO2',\n",
    "    \n",
    "    'paco2_max': 'Max PaCO2',\n",
    "    'paco2_min': 'Min PaCO2',\n",
    "    \n",
    "    'ph_min': 'Min pH',\n",
    "    'ph_max': 'Max pH',\n",
    "    \n",
    "    'aado2_min': 'Min A-aO2',\n",
    "    'addo2_max': 'Max A-aO2',\n",
    "}"
   ]
  },
  {
   "cell_type": "markdown",
   "metadata": {},
   "source": [
    "## group sparsity = 10"
   ]
  },
  {
   "cell_type": "code",
   "execution_count": null,
   "metadata": {},
   "outputs": [],
   "source": [
    "from mimic_pipeline.feature import BinBinarizer\n",
    "import pandas as pd\n",
    "\n",
    "entire = pd.read_csv(\"data/MIMIC-WHOLE.csv\")\n",
    "entire = entire.rename(columns=REPLACE_DICT)\n",
    "\n",
    "X_train, y_train = entire.drop('hospital_expire_flag', axis=1), entire['hospital_expire_flag']\n",
    "binarizer = BinBinarizer(interval_width=1, whether_interval=False, group_sparsity=True)\n",
    "X_train, group_idx = binarizer.fit_transform(X_train)\n",
    "print(X_train.shape)\n",
    "X_train.head()"
   ]
  },
  {
   "cell_type": "code",
   "execution_count": null,
   "metadata": {},
   "outputs": [],
   "source": [
    "pairs = {}\n",
    "for col in list(X_train.columns):\n",
    "    if 'Max Bilirubin' in col:\n",
    "        pairs[col] = (-100, 0)\n",
    "    elif 'Min GCS' in col:\n",
    "        pairs[col] = (0, 100)\n",
    "    elif 'Min SBP' in col:\n",
    "        pairs[col] = (0, 100)\n",
    "    # elif 'Max BUN' in col:\n",
    "    #     pairs[col] = (-100, 0)"
   ]
  },
  {
   "cell_type": "code",
   "execution_count": null,
   "metadata": {},
   "outputs": [],
   "source": [
    "pairs"
   ]
  },
  {
   "cell_type": "code",
   "execution_count": null,
   "metadata": {},
   "outputs": [],
   "source": [
    "from mimic_pipeline.model import FasterRisk\n",
    "\n",
    "lb_list, ub_list = FasterRisk.define_bounds(\n",
    "    X_train,\n",
    "    feature_bound_pairs=pairs,\n",
    "    lb_else=-100,\n",
    "    ub_else=100,\n",
    ")\n",
    "# fasterrisk_10_fix = FasterRisk(gap_tolerance=0.3, group_sparsity=10, k=34, lb=lb_list, select_top_m=1, ub=ub_list, featureIndex_to_groupIndex=group_idx)\n",
    "fasterrisk_10_fix = FasterRisk(gap_tolerance=0.3, k=34, lb=-100, select_top_m=1, ub=100)\n",
    "fasterrisk_10_fix.fit(X_train, y_train)"
   ]
  },
  {
   "cell_type": "code",
   "execution_count": null,
   "metadata": {},
   "outputs": [],
   "source": [
    "fasterrisk_10_fix.print_risk_card(list(X_train.columns), X_train, y_train)"
   ]
  },
  {
   "cell_type": "code",
   "execution_count": null,
   "metadata": {},
   "outputs": [],
   "source": [
    "fasterrisk_10_fix.visualize_risk_card(list(X_train.columns), X_train)"
   ]
  },
  {
   "cell_type": "code",
   "execution_count": null,
   "metadata": {},
   "outputs": [],
   "source": [
    "import pandas as pd\n",
    "from sklearn.metrics import roc_auc_score, precision_recall_curve, auc, roc_curve\n",
    "import joblib\n",
    "test = pd.read_csv(\"data/eICU-union.csv\")\n",
    "X_test, y_test = test.drop(['uniquepid', 'patientunitstayid', 'oasis_prob', 'apache_iv_prob', 'apache_iva_prob', 'sapsii_prob', 'hospital_expire_flag'], axis=1), test['hospital_expire_flag']\n",
    "X_test = X_test.rename(columns=REPLACE_DICT)\n",
    "X_test, _ = binarizer.transform(X_test)\n",
    "y_prob = fasterrisk_10_fix.predict_proba(X_test)\n",
    "fpr, tpr, _ = roc_curve(y_test, y_prob)\n",
    "print(f\"AUC: {auc(fpr, tpr)}\")\n",
    "precision, recall, _ = precision_recall_curve(y_test, y_prob)\n",
    "stats = {\"precision\": precision, \"recall\": recall, \"auroc\": auc(fpr, tpr), \"auprc\": auc(recall, precision), \"fpr\": fpr, \"tpr\": tpr}\n",
    "joblib.dump(stats, \"results/fasterrisk/fasterrisk-10-ood-stats-corrected\")\n",
    "print(f\"AUPRC: {auc(recall, precision)}\")"
   ]
  },
  {
   "cell_type": "markdown",
   "metadata": {},
   "source": [
    "## group sparsity = 15"
   ]
  },
  {
   "cell_type": "code",
   "execution_count": null,
   "metadata": {},
   "outputs": [],
   "source": [
    "import joblib\n",
    "from mimic_pipeline.feature import BinBinarizer\n",
    "import pandas as pd\n",
    "fasterrisk_15 = joblib.load(\"models/fasterrisk/fasterrisk-15\")\n",
    "entire = pd.read_csv(\"data/MIMIC-WHOLE.csv\")\n",
    "entire = entire.rename(columns=REPLACE_DICT)\n",
    "\n",
    "X_train, y_train = entire.drop('hospital_expire_flag', axis=1), entire['hospital_expire_flag']\n",
    "binarizer = BinBinarizer(interval_width=1, whether_interval=False, group_sparsity=True)\n",
    "X_train, group_idx = binarizer.fit_transform(X_train)\n",
    "X_train.head()"
   ]
  },
  {
   "cell_type": "code",
   "execution_count": null,
   "metadata": {},
   "outputs": [],
   "source": [
    "pairs = {}\n",
    "for col in list(X_train.columns):\n",
    "    if 'Max Bilirubin' in col:\n",
    "        pairs[col] = (-100, 0)\n",
    "    elif 'Min GCS' in col:\n",
    "        pairs[col] = (0, 100)\n",
    "    elif 'Min SBP' in col:\n",
    "        pairs[col] = (0, 100)\n",
    "    elif 'Max BUN' in col:\n",
    "        pairs[col] = (-100, 0)"
   ]
  },
  {
   "cell_type": "code",
   "execution_count": null,
   "metadata": {},
   "outputs": [],
   "source": [
    "from mimic_pipeline.model import FasterRisk\n",
    "\n",
    "lb_list, ub_list = FasterRisk.define_bounds(\n",
    "    X_train,\n",
    "    feature_bound_pairs=pairs,\n",
    "    lb_else=-50,\n",
    "    ub_else=70\n",
    ")\n",
    "# fasterrisk_15_fix = FasterRisk(gap_tolerance=0.3, group_sparsity=15, k=50, lb=lb_list, select_top_m=1, ub=ub_list, featureIndex_to_groupIndex=group_idx)\n",
    "fasterrisk_15_fix = FasterRisk(gap_tolerance=0.3, k=50, lb=-50, select_top_m=1, ub=70)\n",
    "fasterrisk_15_fix.fit(X_train, y_train)"
   ]
  },
  {
   "cell_type": "code",
   "execution_count": null,
   "metadata": {},
   "outputs": [],
   "source": [
    "fasterrisk_15_fix.print_risk_card(list(X_train.columns), X_train)"
   ]
  },
  {
   "cell_type": "code",
   "execution_count": null,
   "metadata": {},
   "outputs": [],
   "source": [
    "fasterrisk_15_fix.visualize_risk_card(list(X_train.columns), X_train)"
   ]
  },
  {
   "cell_type": "code",
   "execution_count": null,
   "metadata": {},
   "outputs": [],
   "source": [
    "fasterrisk_15_fix.print_risk_card(list(X_train.columns), X_train.to_numpy(), y_train.to_numpy())"
   ]
  },
  {
   "cell_type": "code",
   "execution_count": null,
   "metadata": {},
   "outputs": [],
   "source": [
    "import pandas as pd\n",
    "from sklearn.metrics import roc_auc_score, precision_recall_curve, auc, roc_curve\n",
    "test = pd.read_csv(\"data/eICU-union.csv\")\n",
    "X_test, y_test = test.drop(['uniquepid', 'patientunitstayid', 'oasis_prob', 'apache_iv_prob', 'apache_iva_prob', 'sapsii_prob', 'hospital_expire_flag'], axis=1), test['hospital_expire_flag']\n",
    "X_test = X_test.rename(columns=REPLACE_DICT)\n",
    "X_test, _ = binarizer.transform(X_test)\n",
    "y_prob = fasterrisk_15_fix.predict_proba(X_test)\n",
    "fpr, tpr, _ = roc_curve(y_test, y_prob)\n",
    "print(f\"AUC: {auc(fpr, tpr)}\")\n",
    "precision, recall, _ = precision_recall_curve(y_test, y_prob)\n",
    "stats = {\"precision\": precision, \"recall\": recall, \"auroc\": auc(fpr, tpr), \"auprc\": auc(recall, precision), \"fpr\": fpr, \"tpr\": tpr}\n",
    "joblib.dump(stats, \"results/fasterrisk/fasterrisk-15-ood-stats-corrected\")\n",
    "print(f\"AUPRC: {auc(recall, precision)}\")"
   ]
  },
  {
   "cell_type": "markdown",
   "metadata": {},
   "source": [
    "## group sparsity = 40"
   ]
  },
  {
   "cell_type": "markdown",
   "metadata": {},
   "source": [
    "perform monotonic correction on\n",
    "* Max Sodium -- increasing\n",
    "* Max Bilirubin -- increasing\n",
    "* Min Respiratory Rate -- increasing \n",
    "* Min Bicarbonate -- increasing"
   ]
  },
  {
   "cell_type": "code",
   "execution_count": null,
   "metadata": {},
   "outputs": [],
   "source": [
    "from mimic_pipeline.feature import BinBinarizer\n",
    "import pandas as pd\n",
    "\n",
    "entire = pd.read_csv(\"data/MIMIC-WHOLE.csv\")\n",
    "entire = entire.rename(columns=REPLACE_DICT)\n",
    "\n",
    "X_train, y_train = entire.drop('hospital_expire_flag', axis=1), entire['hospital_expire_flag']\n",
    "binarizer = BinBinarizer(interval_width=1, whether_interval=False, group_sparsity=True)\n",
    "X_train, group_idx = binarizer.fit_transform(X_train)\n",
    "print(X_train.shape)\n",
    "X_train.head()"
   ]
  },
  {
   "cell_type": "code",
   "execution_count": null,
   "metadata": {},
   "outputs": [],
   "source": [
    "pairs = {}\n",
    "for col in list(X_train.columns):\n",
    "    if 'Max Bilirubin' in col:\n",
    "        pairs[col] = (-100, 0)\n",
    "    elif 'Max Sodium' in col:\n",
    "        pairs[col] = (-100, 0)\n",
    "    elif 'Min Respiratory Rate' in col:\n",
    "        pairs[col] = (-100, 0)\n",
    "    elif 'Min Bicarbonate' in col:\n",
    "        pairs[col] = (-100, 0)"
   ]
  },
  {
   "cell_type": "code",
   "execution_count": null,
   "metadata": {},
   "outputs": [],
   "source": [
    "from mimic_pipeline.model import FasterRisk\n",
    "\n",
    "lb_list, ub_list = FasterRisk.define_bounds(\n",
    "    X_train,\n",
    "    feature_bound_pairs=pairs,\n",
    "    lb_else=-100,\n",
    "    ub_else=100,\n",
    ")\n",
    "# fasterrisk_40_fix = FasterRisk(gap_tolerance=0.3, group_sparsity=40, k=80, lb=-70, select_top_m=1, ub=50, featureIndex_to_groupIndex=group_idx)\n",
    "# fasterrisk_40_fix = FasterRisk(gap_tolerance=0.3, group_sparsity=40, k=80, lb=lb_list, select_top_m=1, ub=ub_list, featureIndex_to_groupIndex=group_idx)\n",
    "fasterrisk_40_fix = FasterRisk(gap_tolerance=0.3, k=80, lb=-100, select_top_m=1, ub=100)\n",
    "fasterrisk_40_fix.fit(X_train, y_train)"
   ]
  },
  {
   "cell_type": "code",
   "execution_count": null,
   "metadata": {},
   "outputs": [],
   "source": [
    "fasterrisk_40_fix.print_risk_card(list(X_train.columns), X_train, y_train)"
   ]
  },
  {
   "cell_type": "code",
   "execution_count": null,
   "metadata": {},
   "outputs": [],
   "source": [
    "fasterrisk_40_fix.visualize_risk_card(list(X_train.columns), X_train)"
   ]
  },
  {
   "cell_type": "code",
   "execution_count": null,
   "metadata": {},
   "outputs": [],
   "source": [
    "import pandas as pd\n",
    "from sklearn.metrics import roc_auc_score, precision_recall_curve, auc, roc_curve\n",
    "test = pd.read_csv(\"data/eICU-union.csv\")\n",
    "X_test, y_test = test.drop(['uniquepid', 'patientunitstayid', 'oasis_prob', 'apache_iv_prob', 'apache_iva_prob', 'sapsii_prob', 'hospital_expire_flag'], axis=1), test['hospital_expire_flag']\n",
    "X_test = X_test.rename(columns=REPLACE_DICT)\n",
    "X_test, _ = binarizer.transform(X_test)\n",
    "y_prob = fasterrisk_40_fix.predict_proba(X_test)\n",
    "fpr, tpr, _ = roc_curve(y_test, y_prob)\n",
    "print(f\"AUC: {auc(fpr, tpr)}\")\n",
    "precision, recall, _ = precision_recall_curve(y_test, y_prob)\n",
    "stats = {\"precision\": precision, \"recall\": recall, \"auroc\": auc(fpr, tpr), \"auprc\": auc(recall, precision), \"fpr\": fpr, \"tpr\": tpr}\n",
    "joblib.dump(stats, \"results/fasterrisk/fasterrisk-40-ood-stats-corrected\")\n",
    "print(f\"AUPRC: {auc(recall, precision)}\")"
   ]
  }
 ],
 "metadata": {
  "kernelspec": {
   "display_name": "474",
   "language": "python",
   "name": "python3"
  },
  "language_info": {
   "codemirror_mode": {
    "name": "ipython",
    "version": 3
   },
   "file_extension": ".py",
   "mimetype": "text/x-python",
   "name": "python",
   "nbconvert_exporter": "python",
   "pygments_lexer": "ipython3",
   "version": "3.9.16"
  },
  "orig_nbformat": 4
 },
 "nbformat": 4,
 "nbformat_minor": 2
}
