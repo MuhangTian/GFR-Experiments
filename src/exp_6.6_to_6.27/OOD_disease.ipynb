{
 "cells": [
  {
   "attachments": {},
   "cell_type": "markdown",
   "metadata": {},
   "source": [
    "# **Disease Specific** Out of Distribution (External) Evaluation"
   ]
  },
  {
   "cell_type": "code",
   "execution_count": null,
   "metadata": {},
   "outputs": [],
   "source": [
    "import joblib\n",
    "import numpy as np\n",
    "from mimic_pipeline.metric import get_calibration_curve, get_model_size\n",
    "from sklearn.metrics import (auc, brier_score_loss, precision_recall_curve,\n",
    "                             roc_curve)\n",
    "from typing import *\n",
    "import pandas as pd\n",
    "import mimic_pipeline.utils as utils\n",
    "\n",
    "user = input(\"Enter your username: \")\n",
    "password = input(\"Enter your password: \")\n",
    "loader = utils.DataBaseLoader(user=user, password=password, dbname='eicu', schema='eicu')\n",
    "SOFA = loader['sofa']\n",
    "\n",
    "def ood_evaluate(disease, model: str, how: str, save: bool=False) -> Optional[dict]:\n",
    "    print(f\"Evaluating OOD performance for {model}...\")\n",
    "    if model in ['sapsii_prob', 'oasis_prob', 'apache_iv_prob', 'apache_iva_prob', 'sofa_emp_prob']:\n",
    "        pass\n",
    "    else:\n",
    "        if how == 'all':\n",
    "            trained_model = joblib.load(f\"models/fasterrisk/{model}\") # NOTE: see how trained on all patients perform\n",
    "        elif how == 'disease':\n",
    "            trained_model = joblib.load(f\"models/disease/{disease}/{model}\")\n",
    "    eicu_df = pd.read_csv(f\"data/eicu-disease/{disease}-union-features-id.csv\")\n",
    "    X_test, y_test = eicu_df.drop(['uniquepid', 'patientunitstayid', 'hospital_expire_flag', 'apache_iv_prob', 'apache_iva_prob', 'oasis_prob', 'sapsii_prob'], axis=1), eicu_df['hospital_expire_flag']\n",
    "    \n",
    "    if 'fasterrisk' in model:\n",
    "        if how == 'all':\n",
    "            binarizer = joblib.load(f\"models/fasterrisk/{model}-binarizer\")          # NOTE: see how trained on all patients perform\n",
    "        elif how == 'disease':\n",
    "            binarizer = joblib.load(f\"models/disease/{disease}/{model}-binarizer\")\n",
    "        X_test, _ = binarizer.transform(X_test)\n",
    "        y_prob = trained_model.predict_proba(X_test.to_numpy())\n",
    "    elif model in ['sapsii_prob', 'oasis_prob', 'apache_iv_prob', 'apache_iva_prob', 'sofa_emp_prob']:\n",
    "        if model == 'sofa_emp_prob':\n",
    "            eicu_df = eicu_df.merge(SOFA[['uniquepid', 'patientunitstayid', 'sofa_emp_prob']], on=['uniquepid', 'patientunitstayid'], how='left')\n",
    "        y_prob = eicu_df[model]\n",
    "    \n",
    "    fpr, tpr, _ = roc_curve(y_test, y_prob)\n",
    "    auroc = auc(fpr, tpr)\n",
    "    precision, recall, _ = precision_recall_curve(y_test, y_prob)\n",
    "    auprc = auc(recall, precision)\n",
    "    prob_true, prob_pred, h_stat, p1 = get_calibration_curve(y_test, y_prob)\n",
    "    _, _, c_stat, p2 = get_calibration_curve(y_test, y_prob, strategy='quantile')\n",
    "    brier = brier_score_loss(y_test, y_prob)\n",
    "    smr = np.sum(y_test.replace({-1: 0})) / np.sum(y_prob)\n",
    "    if model not in ['sapsii_prob', 'oasis_prob', 'apache_iv_prob', 'apache_iva_prob', 'sofa_emp_prob']:\n",
    "        complexity = get_model_size(trained_model)\n",
    "    else:\n",
    "        complexity = 'NA'\n",
    "    \n",
    "    print(f\"AUROC: {auroc}\\nAUPRC: {auprc}\\nHosmer Lemeshow H stat: {h_stat}, P-Value: {p1}\\nHosmer Lemeshow C stat: {c_stat}, P-Value: {p2}\\nBrier Score: {brier}\\nSMR: {smr}\\nComplexity: {complexity}\\n\")\n",
    "    \n",
    "    stats = {\n",
    "        \"auroc\": auroc, \"auprc\": auprc, \"precision\": precision, \"recall\": recall, \"fpr\": fpr, \"tpr\": tpr, \n",
    "        \"true_prob\": prob_true, \"pred_prob\": prob_pred, \"h-stat\": h_stat, \"h-p-value\": p1, \"c-stat\": c_stat, \n",
    "        \"c-p-value\": p2, \"brier\": brier, \"smr\": smr, 'complexity': complexity,\n",
    "    }\n",
    "    \n",
    "    if save:\n",
    "        joblib.dump(stats, f\"results/disease/{disease}/{model}-ood-stats\")\n",
    "    else:\n",
    "        return stats"
   ]
  },
  {
   "attachments": {},
   "cell_type": "markdown",
   "metadata": {},
   "source": [
    "## SEPSIS"
   ]
  },
  {
   "attachments": {},
   "cell_type": "markdown",
   "metadata": {},
   "source": [
    "### FasterRisk (trained on all patients in MIMIC)"
   ]
  },
  {
   "cell_type": "code",
   "execution_count": null,
   "metadata": {},
   "outputs": [],
   "source": [
    "for group_sparsity in [10, 14, 15, 16, 17, 18, 19, 20, 25, 30, 35, 40, 45]:\n",
    "    ood_evaluate(disease='sepsis', model=f'fasterrisk-{group_sparsity}', how='all', save=True)"
   ]
  },
  {
   "attachments": {},
   "cell_type": "markdown",
   "metadata": {},
   "source": [
    "### Baselines"
   ]
  },
  {
   "cell_type": "code",
   "execution_count": null,
   "metadata": {},
   "outputs": [],
   "source": [
    "for scores in ['apache_iv_prob', 'apache_iva_prob', 'oasis_prob', 'sapsii_prob', 'sofa_emp_prob']:\n",
    "    ood_evaluate(disease='sepsis', model=scores, how='all', save=True)"
   ]
  },
  {
   "attachments": {},
   "cell_type": "markdown",
   "metadata": {},
   "source": [
    "## AMI"
   ]
  },
  {
   "attachments": {},
   "cell_type": "markdown",
   "metadata": {},
   "source": [
    "### FasterRisk (trained on all MIMIC patients)"
   ]
  },
  {
   "cell_type": "code",
   "execution_count": null,
   "metadata": {},
   "outputs": [],
   "source": [
    "for group_sparsity in [10, 14, 15, 16, 17, 18, 19, 20, 25, 30, 35, 40, 45]:\n",
    "    ood_evaluate(disease='ami', model=f'fasterrisk-{group_sparsity}', how='all', save=True)"
   ]
  },
  {
   "attachments": {},
   "cell_type": "markdown",
   "metadata": {},
   "source": [
    "### Baselines"
   ]
  },
  {
   "cell_type": "code",
   "execution_count": null,
   "metadata": {},
   "outputs": [],
   "source": [
    "for scores in ['apache_iv_prob', 'apache_iva_prob', 'oasis_prob', 'sapsii_prob', 'sofa_emp_prob']:\n",
    "    ood_evaluate(disease='ami', model=scores, how='all', save=True)"
   ]
  },
  {
   "attachments": {},
   "cell_type": "markdown",
   "metadata": {},
   "source": [
    "## Heart Failure"
   ]
  },
  {
   "attachments": {},
   "cell_type": "markdown",
   "metadata": {},
   "source": [
    "### FasterRisk (trained on all MIMIC patients)"
   ]
  },
  {
   "cell_type": "code",
   "execution_count": null,
   "metadata": {},
   "outputs": [],
   "source": [
    "for group_sparsity in [10, 14, 15, 16, 17, 18, 19, 20, 25, 30, 35, 40, 45]:\n",
    "    ood_evaluate(disease='heart_failure', model=f'fasterrisk-{group_sparsity}', how='all', save=True)"
   ]
  },
  {
   "attachments": {},
   "cell_type": "markdown",
   "metadata": {},
   "source": [
    "### Baselines"
   ]
  },
  {
   "cell_type": "code",
   "execution_count": null,
   "metadata": {},
   "outputs": [],
   "source": [
    "for scores in ['apache_iv_prob', 'apache_iva_prob', 'oasis_prob', 'sapsii_prob', 'sofa_emp_prob']:\n",
    "    ood_evaluate(disease='heart_failure', model=scores, how='all', save=True)"
   ]
  },
  {
   "attachments": {},
   "cell_type": "markdown",
   "metadata": {},
   "source": [
    "## AKF"
   ]
  },
  {
   "attachments": {},
   "cell_type": "markdown",
   "metadata": {},
   "source": [
    "### FasterRisk (trained on all patients in MIMIC)"
   ]
  },
  {
   "cell_type": "code",
   "execution_count": null,
   "metadata": {},
   "outputs": [],
   "source": [
    "for group_sparsity in [10, 14, 15, 16, 17, 18, 19, 20, 25, 30, 35, 40, 45]:\n",
    "    ood_evaluate(disease='akf', model=f'fasterrisk-{group_sparsity}', how='all', save=True)"
   ]
  },
  {
   "attachments": {},
   "cell_type": "markdown",
   "metadata": {},
   "source": [
    "### Baselines"
   ]
  },
  {
   "cell_type": "code",
   "execution_count": null,
   "metadata": {},
   "outputs": [],
   "source": [
    "for scores in ['apache_iv_prob', 'apache_iva_prob', 'oasis_prob', 'sapsii_prob', 'sofa_emp_prob']:\n",
    "    ood_evaluate(disease='akf', model=scores, how='all', save=True)"
   ]
  }
 ],
 "metadata": {
  "kernelspec": {
   "display_name": "474",
   "language": "python",
   "name": "python3"
  },
  "language_info": {
   "codemirror_mode": {
    "name": "ipython",
    "version": 3
   },
   "file_extension": ".py",
   "mimetype": "text/x-python",
   "name": "python",
   "nbconvert_exporter": "python",
   "pygments_lexer": "ipython3",
   "version": "3.9.16"
  },
  "orig_nbformat": 4
 },
 "nbformat": 4,
 "nbformat_minor": 2
}
