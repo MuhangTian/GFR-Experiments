{
 "cells": [
  {
   "cell_type": "code",
   "execution_count": 1,
   "metadata": {},
   "outputs": [
    {
     "data": {
      "text/html": [
       "<div>\n",
       "<style scoped>\n",
       "    .dataframe tbody tr th:only-of-type {\n",
       "        vertical-align: middle;\n",
       "    }\n",
       "\n",
       "    .dataframe tbody tr th {\n",
       "        vertical-align: top;\n",
       "    }\n",
       "\n",
       "    .dataframe thead th {\n",
       "        text-align: right;\n",
       "    }\n",
       "</style>\n",
       "<table border=\"1\" class=\"dataframe\">\n",
       "  <thead>\n",
       "    <tr style=\"text-align: right;\">\n",
       "      <th></th>\n",
       "      <th>hadm_id</th>\n",
       "      <th>sepsis</th>\n",
       "      <th>ami</th>\n",
       "      <th>heart_failure</th>\n",
       "      <th>akf</th>\n",
       "      <th>hypertension</th>\n",
       "      <th>hyperlipidemia</th>\n",
       "      <th>pancreatic_cancer</th>\n",
       "    </tr>\n",
       "  </thead>\n",
       "  <tbody>\n",
       "    <tr>\n",
       "      <th>0</th>\n",
       "      <td>100001</td>\n",
       "      <td>0</td>\n",
       "      <td>0</td>\n",
       "      <td>0</td>\n",
       "      <td>1</td>\n",
       "      <td>0</td>\n",
       "      <td>0</td>\n",
       "      <td>0</td>\n",
       "    </tr>\n",
       "    <tr>\n",
       "      <th>1</th>\n",
       "      <td>100003</td>\n",
       "      <td>0</td>\n",
       "      <td>0</td>\n",
       "      <td>0</td>\n",
       "      <td>0</td>\n",
       "      <td>1</td>\n",
       "      <td>0</td>\n",
       "      <td>0</td>\n",
       "    </tr>\n",
       "    <tr>\n",
       "      <th>2</th>\n",
       "      <td>100006</td>\n",
       "      <td>0</td>\n",
       "      <td>0</td>\n",
       "      <td>0</td>\n",
       "      <td>0</td>\n",
       "      <td>0</td>\n",
       "      <td>0</td>\n",
       "      <td>0</td>\n",
       "    </tr>\n",
       "    <tr>\n",
       "      <th>3</th>\n",
       "      <td>100007</td>\n",
       "      <td>0</td>\n",
       "      <td>0</td>\n",
       "      <td>0</td>\n",
       "      <td>0</td>\n",
       "      <td>1</td>\n",
       "      <td>0</td>\n",
       "      <td>0</td>\n",
       "    </tr>\n",
       "    <tr>\n",
       "      <th>4</th>\n",
       "      <td>100009</td>\n",
       "      <td>0</td>\n",
       "      <td>0</td>\n",
       "      <td>0</td>\n",
       "      <td>0</td>\n",
       "      <td>1</td>\n",
       "      <td>1</td>\n",
       "      <td>0</td>\n",
       "    </tr>\n",
       "  </tbody>\n",
       "</table>\n",
       "</div>"
      ],
      "text/plain": [
       "   hadm_id  sepsis  ami  heart_failure  akf  hypertension  hyperlipidemia  \\\n",
       "0   100001       0    0              0    1             0               0   \n",
       "1   100003       0    0              0    0             1               0   \n",
       "2   100006       0    0              0    0             0               0   \n",
       "3   100007       0    0              0    0             1               0   \n",
       "4   100009       0    0              0    0             1               1   \n",
       "\n",
       "   pancreatic_cancer  \n",
       "0                  0  \n",
       "1                  0  \n",
       "2                  0  \n",
       "3                  0  \n",
       "4                  0  "
      ]
     },
     "execution_count": 1,
     "metadata": {},
     "output_type": "execute_result"
    }
   ],
   "source": [
    "import mimic_pipeline.utils as utils\n",
    "loader = utils.DataBaseLoader(user=input(\"Enter user: \"), password=input(\"Enter password: \"))\n",
    "disease_flag_df = loader[\"disease_flag\"]\n",
    "disease_flag_df.head()"
   ]
  },
  {
   "cell_type": "code",
   "execution_count": 2,
   "metadata": {},
   "outputs": [
    {
     "name": "stdout",
     "output_type": "stream",
     "text": [
      "Positive ratio of sepsis: 10.8%\n",
      "Number of positive cases: 6363\n",
      "\n",
      "Positive ratio of ami: 9.2%\n",
      "Number of positive cases: 5430\n",
      "\n",
      "Positive ratio of heart_failure: 23.1%\n",
      "Number of positive cases: 13608\n",
      "\n",
      "Positive ratio of akf: 19.4%\n",
      "Number of positive cases: 11422\n",
      "\n",
      "Positive ratio of hypertension: 36.1%\n",
      "Number of positive cases: 21305\n",
      "\n",
      "Positive ratio of hyperlipidemia: 24.7%\n",
      "Number of positive cases: 14558\n",
      "\n",
      "Positive ratio of pancreatic_cancer: 0.5%\n",
      "Number of positive cases: 276\n",
      "\n"
     ]
    }
   ],
   "source": [
    "for col in disease_flag_df.columns:\n",
    "    if col != \"hadm_id\":\n",
    "        print(f\"Positive ratio of {col}: {disease_flag_df[col].sum() / len(disease_flag_df) * 100:.1f}%\\nNumber of positive cases: {disease_flag_df[col].sum()}\\n\")"
   ]
  },
  {
   "cell_type": "code",
   "execution_count": 3,
   "metadata": {},
   "outputs": [
    {
     "data": {
      "text/plain": [
       "(30238, 53)"
      ]
     },
     "execution_count": 3,
     "metadata": {},
     "output_type": "execute_result"
    }
   ],
   "source": [
    "import pandas as pd\n",
    "train_df = pd.read_csv(\"data/TRAIN-union-features-id.csv\")\n",
    "test_df = pd.read_csv(\"data/TEST-union-features-id.csv\")\n",
    "whole_df = pd.concat([train_df, test_df], axis=0)\n",
    "whole_df.shape"
   ]
  },
  {
   "cell_type": "code",
   "execution_count": 4,
   "metadata": {},
   "outputs": [],
   "source": [
    "whole_df = whole_df.merge(disease_flag_df, on=\"hadm_id\", how=\"left\")"
   ]
  },
  {
   "cell_type": "code",
   "execution_count": 5,
   "metadata": {},
   "outputs": [
    {
     "data": {
      "text/plain": [
       "(30238, 60)"
      ]
     },
     "execution_count": 5,
     "metadata": {},
     "output_type": "execute_result"
    }
   ],
   "source": [
    "whole_df.shape"
   ]
  },
  {
   "cell_type": "code",
   "execution_count": 6,
   "metadata": {},
   "outputs": [],
   "source": [
    "whole_df.to_csv(\"data/other_outcomes/mimic.csv\", index=False)"
   ]
  },
  {
   "cell_type": "code",
   "execution_count": 7,
   "metadata": {},
   "outputs": [
    {
     "name": "stdout",
     "output_type": "stream",
     "text": [
      "Class ratio for sepsis: 11.6%\n",
      "Number of positive cases: 3505\n",
      "\n",
      "Class ratio for ami: 12.0%\n",
      "Number of positive cases: 3625\n",
      "\n",
      "Class ratio for heart_failure: 23.1%\n",
      "Number of positive cases: 6983\n",
      "\n",
      "Class ratio for akf: 21.2%\n",
      "Number of positive cases: 6407\n",
      "\n",
      "Class ratio for hypertension: 44.3%\n",
      "Number of positive cases: 13394\n",
      "\n",
      "Class ratio for hyperlipidemia: 29.6%\n",
      "Number of positive cases: 8965\n",
      "\n",
      "Class ratio for pancreatic_cancer: 0.6%\n",
      "Number of positive cases: 188\n",
      "\n"
     ]
    }
   ],
   "source": [
    "for col in disease_flag_df.columns:\n",
    "    if col != \"hadm_id\":\n",
    "        print(f\"Class ratio for {col}: {whole_df[col].sum() / len(whole_df) * 100:.1f}%\\nNumber of positive cases: {whole_df[col].sum()}\\n\")"
   ]
  }
 ],
 "metadata": {
  "kernelspec": {
   "display_name": "474",
   "language": "python",
   "name": "python3"
  },
  "language_info": {
   "codemirror_mode": {
    "name": "ipython",
    "version": 3
   },
   "file_extension": ".py",
   "mimetype": "text/x-python",
   "name": "python",
   "nbconvert_exporter": "python",
   "pygments_lexer": "ipython3",
   "version": "3.9.16"
  }
 },
 "nbformat": 4,
 "nbformat_minor": 2
}
