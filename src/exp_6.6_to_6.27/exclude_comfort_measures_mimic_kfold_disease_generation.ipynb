{
 "cells": [
  {
   "attachments": {},
   "cell_type": "markdown",
   "metadata": {},
   "source": [
    "# Generate Folds for Nested CV on MIMIC dataset"
   ]
  },
  {
   "cell_type": "code",
   "execution_count": 1,
   "metadata": {},
   "outputs": [],
   "source": [
    "from sklearn.model_selection import StratifiedKFold\n",
    "import mimic_pipeline.utils as utils\n",
    "import pandas as pd\n",
    "\n",
    "utils.seed_everything()"
   ]
  },
  {
   "cell_type": "code",
   "execution_count": 2,
   "metadata": {},
   "outputs": [
    {
     "name": "stdout",
     "output_type": "stream",
     "text": [
      "************************************************** akf **************************************************\n",
      "17.73%\n",
      "17.67%\n",
      "\n",
      "17.71%\n",
      "17.75%\n",
      "\n",
      "17.71%\n",
      "17.75%\n",
      "\n",
      "17.71%\n",
      "17.75%\n",
      "\n",
      "17.73%\n",
      "17.68%\n",
      "\n",
      "************************************************** ami **************************************************\n",
      "8.98%\n",
      "9.01%\n",
      "\n",
      "8.98%\n",
      "9.01%\n",
      "\n",
      "8.98%\n",
      "9.01%\n",
      "\n",
      "8.98%\n",
      "9.01%\n",
      "\n",
      "9.01%\n",
      "8.88%\n",
      "\n",
      "************************************************** heart_failure **************************************************\n",
      "10.40%\n",
      "10.36%\n",
      "\n",
      "10.38%\n",
      "10.43%\n",
      "\n",
      "10.38%\n",
      "10.43%\n",
      "\n",
      "10.40%\n",
      "10.37%\n",
      "\n",
      "10.40%\n",
      "10.37%\n",
      "\n",
      "************************************************** sepsis **************************************************\n",
      "22.91%\n",
      "23.00%\n",
      "\n",
      "22.91%\n",
      "23.00%\n",
      "\n",
      "22.94%\n",
      "22.88%\n",
      "\n",
      "22.94%\n",
      "22.88%\n",
      "\n",
      "22.94%\n",
      "22.88%\n",
      "\n"
     ]
    }
   ],
   "source": [
    "from tqdm import tqdm\n",
    "import os\n",
    "\n",
    "os.makedirs('data/mimic-disease/k-fold-id-no-cmo', exist_ok=True)\n",
    "for disease in ['akf', 'ami', 'heart_failure', 'sepsis']:\n",
    "    print(f\"{'*'*50} {disease} {'*'*50}\")\n",
    "    entire = pd.read_csv(f\"data/mimic-disease/{disease}-union-features-id-excluded-cmo.csv\")\n",
    "    X, y = entire.drop('hospital_expire_flag', axis=1), entire['hospital_expire_flag']\n",
    "    kf = StratifiedKFold(n_splits=5, shuffle=True, random_state=utils.SEED)\n",
    "    for counter, (train_idx, test_idx) in enumerate(kf.split(X, y), 1):\n",
    "        X_train, y_train, X_test, y_test = X.iloc[train_idx], y.iloc[train_idx], X.iloc[test_idx], y.iloc[test_idx]\n",
    "        tmp_train = pd.concat([X_train, y_train], axis=1)\n",
    "        tmp_test = pd.concat([X_test, y_test], axis=1)\n",
    "        assert tmp_train.shape[0] + tmp_test.shape[0] == entire.shape[0]\n",
    "        assert tmp_train.shape[1] == tmp_test.shape[1] == 53\n",
    "        print(f\"{100*len(tmp_train[tmp_train['hospital_expire_flag'] == 1]) / len(tmp_train):.2f}%\")\n",
    "        print(f\"{100*len(tmp_test[tmp_test['hospital_expire_flag'] == 1]) / len(tmp_test):.2f}%\\n\")\n",
    "        tmp_train.to_csv(f\"data/mimic-disease/k-fold-id-no-cmo/TRAIN-{disease}-fold{counter}.csv\", index=False)\n",
    "        tmp_test.to_csv(f\"data/mimic-disease/k-fold-id-no-cmo/TEST-{disease}-fold{counter}.csv\", index=False)"
   ]
  }
 ],
 "metadata": {
  "kernelspec": {
   "display_name": "474",
   "language": "python",
   "name": "python3"
  },
  "language_info": {
   "codemirror_mode": {
    "name": "ipython",
    "version": 3
   },
   "file_extension": ".py",
   "mimetype": "text/x-python",
   "name": "python",
   "nbconvert_exporter": "python",
   "pygments_lexer": "ipython3",
   "version": "3.9.16"
  },
  "orig_nbformat": 4
 },
 "nbformat": 4,
 "nbformat_minor": 2
}
