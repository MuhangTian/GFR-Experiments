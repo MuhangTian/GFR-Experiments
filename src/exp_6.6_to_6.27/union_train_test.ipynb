{
 "cells": [
  {
   "attachments": {},
   "cell_type": "markdown",
   "metadata": {},
   "source": [
    "# Do train and test split for union features"
   ]
  },
  {
   "cell_type": "code",
   "execution_count": null,
   "metadata": {},
   "outputs": [],
   "source": [
    "import mimic_pipeline as mmp\n",
    "import mimic_pipeline.utils as utils\n",
    "utils.seed_everything()"
   ]
  },
  {
   "cell_type": "code",
   "execution_count": null,
   "metadata": {},
   "outputs": [],
   "source": [
    "user = input(\"Enter your username: \")\n",
    "password = input(\"Enter your password: \")\n",
    "loader = utils.DataBaseLoader(user=user, password=password)\n",
    "data = loader['union_features_prep']"
   ]
  },
  {
   "cell_type": "code",
   "execution_count": null,
   "metadata": {},
   "outputs": [],
   "source": [
    "data.head()"
   ]
  },
  {
   "cell_type": "code",
   "execution_count": null,
   "metadata": {},
   "outputs": [],
   "source": [
    "data['admissiontype'] = data['admissiontype'].replace({'ScheduledSurgical': 0, 'Medical': 1, 'UnscheduledSurgical': 2})\n",
    "data = data.drop(['subject_id', 'hadm_id', 'icustay_id'], axis=1)\n",
    "data.head()"
   ]
  },
  {
   "cell_type": "code",
   "execution_count": null,
   "metadata": {},
   "outputs": [],
   "source": [
    "data.columns"
   ]
  },
  {
   "cell_type": "code",
   "execution_count": null,
   "metadata": {},
   "outputs": [],
   "source": [
    "X, y = data.drop('hospital_expire_flag', axis=1), data['hospital_expire_flag']"
   ]
  },
  {
   "cell_type": "code",
   "execution_count": null,
   "metadata": {},
   "outputs": [],
   "source": [
    "y = y.astype(int).replace(0, -1)"
   ]
  },
  {
   "cell_type": "code",
   "execution_count": null,
   "metadata": {},
   "outputs": [],
   "source": [
    "from sklearn.model_selection import train_test_split\n",
    "import pandas as pd\n",
    "X_train, X_test, y_train, y_test = train_test_split(X, y, random_state=utils.SEED, stratify=y)\n",
    "print(\"************************ NaN Summary ************************\")\n",
    "assert not (y_train.isna().values.any()), \"label contain NaNs!\"\n",
    "assert not (y_test.isna().values.any()), \"label contain NaNs!\"\n",
    "print(f\"% of positives (deaths) in TRAIN: {round(len(y_train[y_train==1])/len(y_train)*100, 3)}%\")\n",
    "print(f\"% of positives (deaths) in TEST: {round(len(y_test[y_test==1])/len(y_test)*100, 3)}%\")\n",
    "train = pd.concat([X_train, y_train], axis=1)\n",
    "test = pd.concat([X_test, y_test], axis=1)"
   ]
  },
  {
   "cell_type": "code",
   "execution_count": null,
   "metadata": {},
   "outputs": [],
   "source": [
    "train.to_csv('data/TRAIN-union-features.csv', index=False)\n",
    "test.to_csv('data/TEST-union-features.csv', index=False)"
   ]
  },
  {
   "attachments": {},
   "cell_type": "markdown",
   "metadata": {},
   "source": [
    "## Save for another version with IDs included"
   ]
  },
  {
   "cell_type": "code",
   "execution_count": null,
   "metadata": {},
   "outputs": [],
   "source": [
    "import mimic_pipeline as mmp\n",
    "import mimic_pipeline.utils as utils\n",
    "import pandas as pd\n",
    "from sklearn.model_selection import train_test_split\n",
    "\n",
    "user = input(\"Enter your username: \")\n",
    "password = input(\"Enter your password: \")\n",
    "\n",
    "utils.seed_everything()\n",
    "loader = utils.DataBaseLoader(user=user, password=password)\n",
    "data = loader['union_features_prep']\n",
    "data['admissiontype'] = data['admissiontype'].replace({'ScheduledSurgical': 0, 'Medical': 1, 'UnscheduledSurgical': 2})\n",
    "X, y = data.drop('hospital_expire_flag', axis=1), data['hospital_expire_flag']\n",
    "y = y.astype(int).replace(0, -1)\n",
    "\n",
    "X_train, X_test, y_train, y_test = train_test_split(X, y, random_state=utils.SEED, stratify=y)\n",
    "print(\"************************ NaN Summary ************************\")\n",
    "assert not (y_train.isna().values.any()), \"label contain NaNs!\"\n",
    "assert not (y_test.isna().values.any()), \"label contain NaNs!\"\n",
    "print(f\"% of positives (deaths) in TRAIN: {round(len(y_train[y_train==1])/len(y_train)*100, 3)}%\")\n",
    "print(f\"% of positives (deaths) in TEST: {round(len(y_test[y_test==1])/len(y_test)*100, 3)}%\")\n",
    "train = pd.concat([X_train, y_train], axis=1)\n",
    "test = pd.concat([X_test, y_test], axis=1)\n",
    "\n",
    "train.to_csv('data/TRAIN-union-features-id.csv', index=False)\n",
    "test.to_csv('data/TEST-union-features-id.csv', index=False)"
   ]
  },
  {
   "attachments": {},
   "cell_type": "markdown",
   "metadata": {},
   "source": [
    "test equalness"
   ]
  },
  {
   "cell_type": "code",
   "execution_count": null,
   "metadata": {},
   "outputs": [],
   "source": [
    "train = pd.read_csv('data/TRAIN-union-features.csv')\n",
    "test = pd.read_csv('data/TEST-union-features.csv')\n",
    "train_id = pd.read_csv('data/TRAIN-union-features-id.csv')\n",
    "test_id = pd.read_csv('data/TEST-union-features-id.csv')\n",
    "pd.testing.assert_frame_equal(train_id.drop(['subject_id', 'hadm_id', 'icustay_id'], axis=1), train)\n",
    "pd.testing.assert_frame_equal(test_id.drop(['subject_id', 'hadm_id', 'icustay_id'], axis=1), test)"
   ]
  }
 ],
 "metadata": {
  "kernelspec": {
   "display_name": "474",
   "language": "python",
   "name": "python3"
  },
  "language_info": {
   "codemirror_mode": {
    "name": "ipython",
    "version": 3
   },
   "file_extension": ".py",
   "mimetype": "text/x-python",
   "name": "python",
   "nbconvert_exporter": "python",
   "pygments_lexer": "ipython3",
   "version": "3.9.16"
  },
  "orig_nbformat": 4
 },
 "nbformat": 4,
 "nbformat_minor": 2
}
