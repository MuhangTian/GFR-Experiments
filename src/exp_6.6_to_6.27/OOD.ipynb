{
 "cells": [
  {
   "attachments": {},
   "cell_type": "markdown",
   "metadata": {},
   "source": [
    "# Out of Distribution (External) Evaluation"
   ]
  },
  {
   "cell_type": "code",
   "execution_count": null,
   "metadata": {},
   "outputs": [],
   "source": [
    "\n",
    "import joblib\n",
    "import numpy as np\n",
    "from mimic_pipeline.metric import get_calibration_curve, get_model_size\n",
    "from sklearn.metrics import (auc, brier_score_loss, precision_recall_curve,\n",
    "                             roc_curve)\n",
    "from typing import *\n",
    "import pandas as pd\n",
    "\n",
    "\n",
    "def ood_evaluate(eicu_df, model: str, exp: str, save: bool=False) -> Optional[dict]:\n",
    "    print(f\"Evaluating OOD performance for {model}...\")\n",
    "    if model in ['sapsii_prob', 'oasis_prob', 'apache_iv_prob', 'apache_iva_prob']:\n",
    "        pass\n",
    "    else:\n",
    "        trained_model = joblib.load(f\"models/{exp}/{model}\")\n",
    "    X_test, y_test = eicu_df.drop(['uniquepid', 'patientunitstayid', 'hospital_expire_flag', 'apache_iv_prob', 'apache_iva_prob', 'oasis_prob', 'sapsii_prob'], axis=1), eicu_df['hospital_expire_flag']\n",
    "    if exp == 'oasis+' or model == 'fasterrisk-oasis':\n",
    "        oasis_features = [\n",
    "            'heartrate_min', 'heartrate_max', 'meanbp_min', 'meanbp_max', 'resprate_min', 'resprate_max', 'tempc_min', \n",
    "            'tempc_max', 'urineoutput', 'mechvent', 'electivesurgery', 'age', 'gcs_min', 'preiculos'\n",
    "        ]\n",
    "        X_test = X_test[oasis_features]\n",
    "    \n",
    "    if 'fasterrisk' in model or model in ['nonlinear-logreg-l1', 'nonlinear-logreg-l2']:\n",
    "        binarizer = joblib.load(f\"models/{exp}/{model}-binarizer\")\n",
    "        X_test, _ = binarizer.transform(X_test)\n",
    "        y_prob = trained_model.predict_proba(X_test.to_numpy())\n",
    "    elif model in ['sapsii_prob', 'oasis_prob', 'apache_iv_prob', 'apache_iva_prob']:\n",
    "        y_prob = eicu_df[model]\n",
    "    else:\n",
    "        imputer = joblib.load(f\"models/{exp}/{model}-imputer\")\n",
    "        scaler = joblib.load(f\"models/{exp}/{model}-scaler\")\n",
    "        columns = list(X_test.columns)\n",
    "        X_test = imputer.transform(X_test)\n",
    "        X_test = pd.DataFrame(X_test, columns=columns)\n",
    "        X_test = scaler.transform(X_test)\n",
    "        y_prob = trained_model.predict_proba(X_test)\n",
    "    \n",
    "    if len(y_prob.shape) == 2:        # for some scikit-learn models where probas is 2D\n",
    "        y_prob = y_prob[:, 1]\n",
    "    \n",
    "    fpr, tpr, _ = roc_curve(y_test, y_prob)\n",
    "    auroc = auc(fpr, tpr)\n",
    "    precision, recall, _ = precision_recall_curve(y_test, y_prob)\n",
    "    auprc = auc(recall, precision)\n",
    "    prob_true, prob_pred, h_stat, p1 = get_calibration_curve(y_test, y_prob)\n",
    "    _, _, c_stat, p2 = get_calibration_curve(y_test, y_prob, strategy='quantile')\n",
    "    brier = brier_score_loss(y_test, y_prob)\n",
    "    smr = np.sum(y_test.replace({-1: 0})) / np.sum(y_prob)\n",
    "    if model not in ['sapsii_prob', 'oasis_prob', 'apache_iv_prob', 'apache_iva_prob']:\n",
    "        complexity = get_model_size(trained_model)\n",
    "    else:\n",
    "        complexity = 'NA'\n",
    "    \n",
    "    print(f\"AUROC: {auroc}\\nAUPRC: {auprc}\\nHosmer Lemeshow H stat: {h_stat}, P-Value: {p1}\\nHosmer Lemeshow C stat: {c_stat}, P-Value: {p2}\\nBrier Score: {brier}\\nSMR: {smr}\\nComplexity: {complexity}\\n\")\n",
    "    \n",
    "    stats = {\n",
    "        \"auroc\": auroc, \"auprc\": auprc, \"precision\": precision, \"recall\": recall, \"fpr\": fpr, \"tpr\": tpr, \n",
    "        \"true_prob\": prob_true, \"pred_prob\": prob_pred, \"h-stat\": h_stat, \"h-p-value\": p1, \"c-stat\": c_stat, \n",
    "        \"c-p-value\": p2, \"brier\": brier, \"smr\": smr, 'complexity': complexity,\n",
    "    }\n",
    "    \n",
    "    if save:\n",
    "        if model not in ['sapsii_prob', 'oasis_prob', 'apache_iv_prob', 'apache_iva_prob']:\n",
    "            joblib.dump(stats, f\"results/{exp}/{model}-ood-stats\")\n",
    "        else:\n",
    "            joblib.dump(stats, f\"results/{model}-ood-stats\")\n",
    "    else:\n",
    "        return stats\n",
    "    "
   ]
  },
  {
   "attachments": {},
   "cell_type": "markdown",
   "metadata": {},
   "source": [
    "## FasterRisk"
   ]
  },
  {
   "cell_type": "code",
   "execution_count": null,
   "metadata": {},
   "outputs": [],
   "source": [
    "eicu_df = pd.read_csv('data/eICU-union.csv')"
   ]
  },
  {
   "cell_type": "code",
   "execution_count": null,
   "metadata": {},
   "outputs": [],
   "source": [
    "for group_sparsity in range(10, 50, 5):\n",
    "    ood_evaluate(eicu_df, model=f'fasterrisk-{group_sparsity}', exp='fasterrisk', save=True)"
   ]
  },
  {
   "cell_type": "code",
   "execution_count": null,
   "metadata": {},
   "outputs": [],
   "source": [
    "for i in [14, 15, 16, 17, 18, 19]:\n",
    "    ood_evaluate(eicu_df, model=f'fasterrisk-{i}', exp='fasterrisk', save=True)"
   ]
  },
  {
   "cell_type": "code",
   "execution_count": null,
   "metadata": {},
   "outputs": [],
   "source": [
    "ood_evaluate(eicu_df, model=\"fasterrisk-oasis\", exp='fasterrisk', save=True)"
   ]
  },
  {
   "attachments": {},
   "cell_type": "markdown",
   "metadata": {},
   "source": [
    "## Union 49 For Other ML Models"
   ]
  },
  {
   "cell_type": "code",
   "execution_count": null,
   "metadata": {},
   "outputs": [],
   "source": [
    "for model in ['ebm', 'nonlinear-logreg-l1', 'nonlinear-logreg-l2', 'random-forest', 'adaboost', 'xgboost']:\n",
    "    ood_evaluate(eicu_df, model=model, exp='union49', save=True)"
   ]
  },
  {
   "attachments": {},
   "cell_type": "markdown",
   "metadata": {},
   "source": [
    "## OASIS+ Models"
   ]
  },
  {
   "cell_type": "code",
   "execution_count": null,
   "metadata": {},
   "outputs": [],
   "source": [
    "for model in ['ebm', 'nonlinear-logreg-l1', 'nonlinear-logreg-l2', 'random-forest', 'adaboost', 'xgboost']:\n",
    "    ood_evaluate(eicu_df, model=model, exp='oasis+', save=True)"
   ]
  },
  {
   "attachments": {},
   "cell_type": "markdown",
   "metadata": {},
   "source": [
    "## Severity of Illness Scores"
   ]
  },
  {
   "cell_type": "code",
   "execution_count": null,
   "metadata": {},
   "outputs": [],
   "source": [
    "for model in [\"oasis_prob\", \"sapsii_prob\", \"apache_iv_prob\", \"apache_iva_prob\"]:\n",
    "    ood_evaluate(eicu_df, model=model, exp='oasis+', save=True)"
   ]
  }
 ],
 "metadata": {
  "kernelspec": {
   "display_name": "474",
   "language": "python",
   "name": "python3"
  },
  "language_info": {
   "codemirror_mode": {
    "name": "ipython",
    "version": 3
   },
   "file_extension": ".py",
   "mimetype": "text/x-python",
   "name": "python",
   "nbconvert_exporter": "python",
   "pygments_lexer": "ipython3",
   "version": "3.9.16"
  },
  "orig_nbformat": 4
 },
 "nbformat": 4,
 "nbformat_minor": 2
}
