{
 "cells": [
  {
   "attachments": {},
   "cell_type": "markdown",
   "metadata": {},
   "source": [
    "# Out of Distribution (External) Evaluation"
   ]
  },
  {
   "cell_type": "code",
   "execution_count": 11,
   "metadata": {},
   "outputs": [],
   "source": [
    "\n",
    "import os\n",
    "from typing import *\n",
    "\n",
    "import joblib\n",
    "import numpy as np\n",
    "import pandas as pd\n",
    "from mimic_pipeline.metric import get_calibration_curve, get_model_size\n",
    "from sklearn.metrics import (auc, brier_score_loss, precision_recall_curve,\n",
    "                             roc_curve)\n",
    "\n",
    "\n",
    "def ood_evaluate(eicu_df, model: str, exp: str, save: bool=False) -> Optional[dict]:\n",
    "    print(f\"Evaluating OOD performance for {model}...\")\n",
    "    if model in ['sapsii_prob', 'oasis_prob', 'apache_iv_prob', 'apache_iva_prob']:\n",
    "        pass\n",
    "    else:\n",
    "        trained_model = joblib.load(f\"models/{exp}/model.joblib\")\n",
    "    X_test, y_test = eicu_df.drop(['uniquepid', 'patientunitstayid', 'hospital_expire_flag', 'apache_iv_prob', 'apache_iva_prob', 'oasis_prob', 'sapsii_prob'], axis=1), eicu_df['hospital_expire_flag']\n",
    "    if exp == 'oasis+' or model == 'fasterrisk-oasis':\n",
    "        oasis_features = [\n",
    "            'heartrate_min', 'heartrate_max', 'meanbp_min', 'meanbp_max', 'resprate_min', 'resprate_max', 'tempc_min', \n",
    "            'tempc_max', 'urineoutput', 'mechvent', 'electivesurgery', 'age', 'gcs_min', 'preiculos'\n",
    "        ]\n",
    "        X_test = X_test[oasis_features]\n",
    "    \n",
    "    if 'fasterrisk' in model or model in ['nonlinear-logreg-l1', 'nonlinear-logreg-l2']:\n",
    "        binarizer = joblib.load(f\"models/{exp}/binarizer.joblib\")\n",
    "        X_test, _ = binarizer.transform(X_test)\n",
    "        y_prob = trained_model.predict_proba(X_test.to_numpy())\n",
    "    elif model in ['sapsii_prob', 'oasis_prob', 'apache_iv_prob', 'apache_iva_prob']:\n",
    "        y_prob = eicu_df[model]\n",
    "    else:\n",
    "        imputer = joblib.load(f\"models/{exp}/{model}-imputer\")\n",
    "        scaler = joblib.load(f\"models/{exp}/{model}-scaler\")\n",
    "        columns = list(X_test.columns)\n",
    "        X_test = imputer.transform(X_test)\n",
    "        X_test = pd.DataFrame(X_test, columns=columns)\n",
    "        X_test = scaler.transform(X_test)\n",
    "        y_prob = trained_model.predict_proba(X_test)\n",
    "    \n",
    "    if len(y_prob.shape) == 2:        # for some scikit-learn models where probas is 2D\n",
    "        y_prob = y_prob[:, 1]\n",
    "    \n",
    "    fpr, tpr, _ = roc_curve(y_test, y_prob)\n",
    "    auroc = auc(fpr, tpr)\n",
    "    precision, recall, _ = precision_recall_curve(y_test, y_prob)\n",
    "    auprc = auc(recall, precision)\n",
    "    prob_true, prob_pred, h_stat, p1 = get_calibration_curve(y_test, y_prob)\n",
    "    _, _, c_stat, p2 = get_calibration_curve(y_test, y_prob, strategy='quantile')\n",
    "    brier = brier_score_loss(y_test, y_prob)\n",
    "    smr = np.sum(y_test.replace({-1: 0})) / np.sum(y_prob)\n",
    "    if model not in ['sapsii_prob', 'oasis_prob', 'apache_iv_prob', 'apache_iva_prob']:\n",
    "        complexity = get_model_size(trained_model)\n",
    "    else:\n",
    "        complexity = 'NA'\n",
    "    \n",
    "    print(f\"AUROC: {auroc}\\nAUPRC: {auprc}\\nHosmer Lemeshow H stat: {h_stat}, P-Value: {p1}\\nHosmer Lemeshow C stat: {c_stat}, P-Value: {p2}\\nBrier Score: {brier}\\nSMR: {smr}\\nComplexity: {complexity}\\n\")\n",
    "    \n",
    "    stats = {\n",
    "        \"auroc\": auroc, \"auprc\": auprc, \"precision\": precision, \"recall\": recall, \"fpr\": fpr, \"tpr\": tpr, \n",
    "        \"true_prob\": prob_true, \"pred_prob\": prob_pred, \"h-stat\": h_stat, \"h-p-value\": p1, \"c-stat\": c_stat, \n",
    "        \"c-p-value\": p2, \"brier\": brier, \"smr\": smr, 'complexity': complexity,\n",
    "    }\n",
    "    \n",
    "    if save:\n",
    "        if model not in ['sapsii_prob', 'oasis_prob', 'apache_iv_prob', 'apache_iva_prob']:\n",
    "            os.makedirs(f\"results/{exp}\", exist_ok=True)\n",
    "            joblib.dump(stats, f\"results/{exp}/{model}-ood-stats\")\n",
    "        else:\n",
    "            joblib.dump(stats, f\"results/{model}-ood-stats\")\n",
    "    else:\n",
    "        return stats\n",
    "    "
   ]
  },
  {
   "attachments": {},
   "cell_type": "markdown",
   "metadata": {},
   "source": [
    "## FasterRisk"
   ]
  },
  {
   "cell_type": "code",
   "execution_count": 2,
   "metadata": {},
   "outputs": [],
   "source": [
    "eicu_df = pd.read_csv('data/eICU-union-excluded-cmo.csv')"
   ]
  },
  {
   "cell_type": "code",
   "execution_count": 12,
   "metadata": {},
   "outputs": [
    {
     "name": "stdout",
     "output_type": "stream",
     "text": [
      "Evaluating OOD performance for fasterrisk-10_o...\n",
      "AUROC: 0.8376235045069208\n",
      "AUPRC: 0.38820668933665486\n",
      "Hosmer Lemeshow H stat: 5776.436364443756, P-Value: 0.0\n",
      "Hosmer Lemeshow C stat: 5514.463281919735, P-Value: 0.0\n",
      "Brier Score: 0.06644746812241369\n",
      "SMR: 0.5221547739626612\n",
      "Complexity: 42\n",
      "\n",
      "Evaluating OOD performance for fasterrisk-15_o...\n",
      "AUROC: 0.8526094577861507\n",
      "AUPRC: 0.4272744541216901\n",
      "Hosmer Lemeshow H stat: 4843.628741602765, P-Value: 0.0\n",
      "Hosmer Lemeshow C stat: 4383.470928389969, P-Value: 0.0\n",
      "Brier Score: 0.06273102922024416\n",
      "SMR: 0.5642895468177759\n",
      "Complexity: 52\n",
      "\n",
      "Evaluating OOD performance for fasterrisk-40_o...\n",
      "AUROC: 0.8595056851794944\n",
      "AUPRC: 0.45390480223340596\n",
      "Hosmer Lemeshow H stat: 5346.143290595267, P-Value: 0.0\n",
      "Hosmer Lemeshow C stat: 4516.324534250578, P-Value: 0.0\n",
      "Brier Score: 0.06186555166675559\n",
      "SMR: 0.5756947286004948\n",
      "Complexity: 82\n",
      "\n"
     ]
    }
   ],
   "source": [
    "for gs in [10, 15, 40]:\n",
    "    ood_evaluate(eicu_df, model=f'fasterrisk-{gs}_o', exp=f'fasterrisk-{gs}_o', save=True)"
   ]
  },
  {
   "attachments": {},
   "cell_type": "markdown",
   "metadata": {},
   "source": [
    "## Union 49 For Other ML Models"
   ]
  },
  {
   "cell_type": "code",
   "execution_count": null,
   "metadata": {},
   "outputs": [],
   "source": [
    "for model in ['ebm', 'nonlinear-logreg-l1', 'nonlinear-logreg-l2', 'random-forest', 'adaboost', 'xgboost']:\n",
    "    ood_evaluate(eicu_df, model=model, exp='union49', save=True)"
   ]
  },
  {
   "attachments": {},
   "cell_type": "markdown",
   "metadata": {},
   "source": [
    "## OASIS+ Models"
   ]
  },
  {
   "cell_type": "code",
   "execution_count": null,
   "metadata": {},
   "outputs": [],
   "source": [
    "for model in ['ebm', 'nonlinear-logreg-l1', 'nonlinear-logreg-l2', 'random-forest', 'adaboost', 'xgboost']:\n",
    "    ood_evaluate(eicu_df, model=model, exp='oasis+', save=True)"
   ]
  },
  {
   "attachments": {},
   "cell_type": "markdown",
   "metadata": {},
   "source": [
    "## Severity of Illness Scores"
   ]
  },
  {
   "cell_type": "code",
   "execution_count": 4,
   "metadata": {},
   "outputs": [
    {
     "name": "stdout",
     "output_type": "stream",
     "text": [
      "Evaluating OOD performance for oasis_prob...\n",
      "AUROC: 0.7971265487226383\n",
      "AUPRC: 0.31432076859159297\n",
      "Hosmer Lemeshow H stat: 750.2734354294583, P-Value: 0.0\n",
      "Hosmer Lemeshow C stat: 656.3111670626704, P-Value: 0.0\n",
      "Brier Score: 0.06200544638978682\n",
      "SMR: 0.796869823114373\n",
      "Complexity: NA\n",
      "\n",
      "Evaluating OOD performance for sapsii_prob...\n",
      "AUROC: 0.8399486023254671\n",
      "AUPRC: 0.39064969070711464\n",
      "Hosmer Lemeshow H stat: 11438.152654219308, P-Value: 0.0\n",
      "Hosmer Lemeshow C stat: 10233.383129090587, P-Value: 0.0\n",
      "Brier Score: 0.07519916612991666\n",
      "SMR: 0.44575669023662295\n",
      "Complexity: NA\n",
      "\n",
      "Evaluating OOD performance for apache_iv_prob...\n",
      "AUROC: 0.8662356372662006\n",
      "AUPRC: 0.44011186023324267\n",
      "Hosmer Lemeshow H stat: 3206.194826806409, P-Value: 0.0\n",
      "Hosmer Lemeshow C stat: 2811.593961878027, P-Value: 0.0\n",
      "Brier Score: 0.058772796461723294\n",
      "SMR: 0.6276517377584122\n",
      "Complexity: NA\n",
      "\n",
      "Evaluating OOD performance for apache_iva_prob...\n",
      "AUROC: 0.8675396503722483\n",
      "AUPRC: 0.44289852997433604\n",
      "Hosmer Lemeshow H stat: 1555.02582633134, P-Value: 0.0\n",
      "Hosmer Lemeshow C stat: 1472.622707738146, P-Value: 0.0\n",
      "Brier Score: 0.05592511165153909\n",
      "SMR: 0.7050923989671829\n",
      "Complexity: NA\n",
      "\n"
     ]
    }
   ],
   "source": [
    "for model in [\"oasis_prob\", \"sapsii_prob\", \"apache_iv_prob\", \"apache_iva_prob\"]:\n",
    "    ood_evaluate(eicu_df, model=model, exp='oasis+', save=True)"
   ]
  }
 ],
 "metadata": {
  "kernelspec": {
   "display_name": "474",
   "language": "python",
   "name": "python3"
  },
  "language_info": {
   "codemirror_mode": {
    "name": "ipython",
    "version": 3
   },
   "file_extension": ".py",
   "mimetype": "text/x-python",
   "name": "python",
   "nbconvert_exporter": "python",
   "pygments_lexer": "ipython3",
   "version": "3.9.16"
  },
  "orig_nbformat": 4
 },
 "nbformat": 4,
 "nbformat_minor": 2
}
