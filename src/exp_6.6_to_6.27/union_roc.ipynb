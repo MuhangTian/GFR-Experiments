{
 "cells": [
  {
   "attachments": {},
   "cell_type": "markdown",
   "metadata": {},
   "source": [
    "# See ROC curves for union of features"
   ]
  },
  {
   "cell_type": "code",
   "execution_count": null,
   "metadata": {},
   "outputs": [],
   "source": [
    "import mimic_pipeline as mmp\n",
    "import mimic_pipeline.utils as utils\n",
    "import seaborn as sns\n",
    "import matplotlib.pyplot as plt"
   ]
  },
  {
   "cell_type": "code",
   "execution_count": null,
   "metadata": {},
   "outputs": [],
   "source": [
    "user = input(\"Enter your username: \")\n",
    "password = input(\"Enter your password: \")\n",
    "load = utils.DataBaseLoader(user=user, password=password)\n",
    "union_df = load['union_features_prep']\n",
    "union_df.head()"
   ]
  },
  {
   "cell_type": "code",
   "execution_count": null,
   "metadata": {},
   "outputs": [],
   "source": [
    "union_df.shape"
   ]
  },
  {
   "cell_type": "code",
   "execution_count": null,
   "metadata": {},
   "outputs": [],
   "source": [
    "union_df = union_df[ (union_df['age'] > 15) & (union_df['age'] <= 89) & (union_df['urineoutput'] >= 0) & (union_df['preiculos'] >= 0)]\n",
    "union_df['admissiontype'] = union_df['admissiontype'].replace({'Medical': 1, 'ScheduledSurgical': 0, 'UnscheduledSurgical': 2})\n",
    "union_df.shape"
   ]
  },
  {
   "attachments": {},
   "cell_type": "markdown",
   "metadata": {},
   "source": [
    "class imbalance"
   ]
  },
  {
   "cell_type": "code",
   "execution_count": null,
   "metadata": {},
   "outputs": [],
   "source": [
    "100 * len(union_df[union_df['hospital_expire_flag'] == 1]) / len(union_df)"
   ]
  },
  {
   "attachments": {},
   "cell_type": "markdown",
   "metadata": {},
   "source": [
    "NaN summary"
   ]
  },
  {
   "cell_type": "code",
   "execution_count": null,
   "metadata": {},
   "outputs": [],
   "source": [
    "mmp.preprocess.plot_nan_summary(union_df, tolerance=0.01)"
   ]
  },
  {
   "cell_type": "code",
   "execution_count": null,
   "metadata": {},
   "outputs": [],
   "source": [
    "mmp.metric.plot_curve_for_features(\n",
    "    title='Feature Comparison',\n",
    "    X_train=union_df.drop(['hospital_expire_flag', 'hadm_id', 'subject_id', 'icustay_id'], axis=1),\n",
    "    y_train=union_df['hospital_expire_flag'],\n",
    "    separate=10,\n",
    "    topK=50,\n",
    "    fig_size=(8, 8),\n",
    "    negate=True,\n",
    ")"
   ]
  },
  {
   "cell_type": "code",
   "execution_count": null,
   "metadata": {},
   "outputs": [],
   "source": [
    "for feature in list(union_df.drop(['hospital_expire_flag', 'hadm_id', 'subject_id', 'icustay_id'], axis=1).columns):\n",
    "    print(f\"====== Feature: {feature} ======\")\n",
    "    print(union_df[feature].describe())"
   ]
  }
 ],
 "metadata": {
  "kernelspec": {
   "display_name": "474",
   "language": "python",
   "name": "python3"
  },
  "language_info": {
   "codemirror_mode": {
    "name": "ipython",
    "version": 3
   },
   "file_extension": ".py",
   "mimetype": "text/x-python",
   "name": "python",
   "nbconvert_exporter": "python",
   "pygments_lexer": "ipython3",
   "version": "3.9.16"
  },
  "orig_nbformat": 4
 },
 "nbformat": 4,
 "nbformat_minor": 2
}
