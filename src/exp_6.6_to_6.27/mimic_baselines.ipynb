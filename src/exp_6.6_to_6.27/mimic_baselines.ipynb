{
 "cells": [
  {
   "attachments": {},
   "cell_type": "markdown",
   "metadata": {},
   "source": [
    "# Obtain Evaluation on MIMIC dataset for OASIS and SAPS II"
   ]
  },
  {
   "cell_type": "code",
   "execution_count": null,
   "metadata": {},
   "outputs": [],
   "source": [
    "import mimic_pipeline.utils as utils\n",
    "user = input('Enter your username: ')\n",
    "password = input('Enter your password: ')\n",
    "loader = utils.DataBaseLoader(user=user, password=password)\n",
    "oasis_df = loader['oasis']\n",
    "sapsii_df = loader['sapsii']\n",
    "oasis_df.head()"
   ]
  },
  {
   "cell_type": "code",
   "execution_count": null,
   "metadata": {},
   "outputs": [],
   "source": [
    "sapsii_df.head()"
   ]
  },
  {
   "cell_type": "code",
   "execution_count": null,
   "metadata": {},
   "outputs": [],
   "source": [
    "import pandas as pd\n",
    "train = pd.read_csv(\"data/TRAIN-union-features.csv\")\n",
    "test = pd.read_csv(\"data/TEST-union-features.csv\")\n",
    "all = pd.concat([train, test], axis=0)\n",
    "print(all.shape)\n",
    "all.head()"
   ]
  },
  {
   "cell_type": "code",
   "execution_count": null,
   "metadata": {},
   "outputs": [],
   "source": [
    "from sklearn.metrics import auc, precision_recall_curve, roc_curve, brier_score_loss\n",
    "from sklearn.model_selection import StratifiedKFold\n",
    "from mimic_pipeline.metric import get_calibration_curve\n",
    "import numpy as np\n",
    "import joblib\n",
    "\n",
    "utils.seed_everything()\n",
    "oasis_auroc, sapsii_auroc = [], []\n",
    "oasis_auprc, sapsii_auprc = [], []\n",
    "oasis_hl, sapsii_hl = [], []\n",
    "oasis_brier, sapsii_brier = [], []\n",
    "oasis_smr, sapsii_smr = [], []\n",
    "for fold in range(1,6):\n",
    "    test_df = pd.read_csv(f\"data/k-fold-id/TEST-union-features-fold{fold}.csv\")\n",
    "    copy = test_df[['subject_id', 'hadm_id', 'icustay_id']].copy()\n",
    "    test_df = test_df.merge(oasis_df[['subject_id', 'icustay_id', 'hadm_id', 'oasis_prob']], on=['subject_id', 'icustay_id', 'hadm_id'], how='inner')\n",
    "    test_df = test_df.merge(sapsii_df[['subject_id', 'icustay_id', 'hadm_id', 'sapsii_prob']], on=['subject_id', 'icustay_id', 'hadm_id'], how='inner')\n",
    "    pd.testing.assert_frame_equal(test_df[['subject_id', 'hadm_id', 'icustay_id']], copy)\n",
    "    fpr, tpr, _ = roc_curve(test_df['hospital_expire_flag'], test_df['oasis_prob'])\n",
    "    precision, recall, _ = precision_recall_curve(test_df['hospital_expire_flag'], test_df['oasis_prob'])\n",
    "    prob_true, prob_pred, h, p = get_calibration_curve(test_df['hospital_expire_flag'], test_df['oasis_prob'])\n",
    "    oasis_smr.append(np.sum(test_df['hospital_expire_flag'].replace({-1: 0})) / np.sum(test_df['oasis_prob']) )\n",
    "    oasis_brier.append(brier_score_loss(test_df['hospital_expire_flag'], test_df['oasis_prob']))\n",
    "    oasis_auroc.append(auc(fpr, tpr))\n",
    "    oasis_auprc.append(auc(recall, precision))\n",
    "    oasis_hl.append(h)\n",
    "    \n",
    "    fpr, tpr, _ = roc_curve(test_df['hospital_expire_flag'], test_df['sapsii_prob'])\n",
    "    precision, recall, _ = precision_recall_curve(test_df['hospital_expire_flag'], test_df['sapsii_prob'])\n",
    "    prob_true, prob_pred, h, p = get_calibration_curve(test_df['hospital_expire_flag'], test_df['sapsii_prob'], strategy='quantile')\n",
    "    sapsii_brier.append(brier_score_loss(test_df['hospital_expire_flag'], test_df['sapsii_prob']))\n",
    "    sapsii_smr.append(np.sum(test_df['hospital_expire_flag'].replace({-1: 0})) / np.sum(test_df['sapsii_prob']))\n",
    "    sapsii_auroc.append(auc(fpr, tpr))\n",
    "    sapsii_auprc.append(auc(recall, precision))\n",
    "    sapsii_hl.append(h)\n",
    "\n",
    "oasis_stats = {'auroc': oasis_auroc, 'auprc': oasis_auprc, 'c-stat': oasis_hl, 'smr': oasis_smr, 'brier': oasis_brier}\n",
    "sapsii_stats = {'auroc': sapsii_auroc, 'auprc': sapsii_auprc, 'c-stat': sapsii_hl, 'smr': sapsii_smr, 'brier': sapsii_brier}\n",
    "joblib.dump(oasis_stats, \"results/oasis_mimic-stats\")\n",
    "joblib.dump(sapsii_stats, \"results/sapsii_mimic-stats\")\n",
    "    \n",
    "print(f\"OASIS AUROC: {np.mean(oasis_auroc):.3f} +/- {np.std(oasis_auroc):.3f}\")\n",
    "print(f\"OASIS AUPRC: {np.mean(oasis_auprc):.3f} +/- {np.std(oasis_auprc):.3f}\")\n",
    "print(f\"OASIS HL C-stat: {np.mean(oasis_hl):.3f} +/- {np.std(oasis_hl):.3f}\")\n",
    "print(f\"OASIS SMR: {np.mean(oasis_smr):.3f} +/- {np.std(oasis_smr):.3f}\")\n",
    "print(f\"OASIS Brier: {np.mean(oasis_brier):.3f} +/- {np.std(oasis_brier):.3f}\\n\")\n",
    "print(f\"SAPSII AUROC: {np.mean(sapsii_auroc):.3f} +/- {np.std(sapsii_auroc):.3f}\")\n",
    "print(f\"SAPSII AUPRC: {np.mean(sapsii_auprc):.3f} +/- {np.std(sapsii_auprc):.3f}\")\n",
    "print(f\"SAPSII HL C-stat: {np.mean(sapsii_hl):.3f} +/- {np.std(sapsii_hl):.3f}\")\n",
    "print(f\"SAPSII SMR: {np.mean(sapsii_smr):.3f} +/- {np.std(sapsii_smr):.3f}\")\n",
    "print(f\"SAPSII Brier: {np.mean(sapsii_brier):.3f} +/- {np.std(sapsii_brier):.4f}\")"
   ]
  },
  {
   "attachments": {},
   "cell_type": "markdown",
   "metadata": {},
   "source": [
    "### Disease Specific"
   ]
  },
  {
   "cell_type": "code",
   "execution_count": null,
   "metadata": {},
   "outputs": [],
   "source": [
    "sofa_df = loader['sofa_revised']\n",
    "sofa_df.head()"
   ]
  },
  {
   "cell_type": "code",
   "execution_count": null,
   "metadata": {},
   "outputs": [],
   "source": [
    "sofa_df['sofa_emp_prob'].unique()"
   ]
  },
  {
   "cell_type": "code",
   "execution_count": null,
   "metadata": {},
   "outputs": [],
   "source": [
    "import joblib\n",
    "utils.seed_everything()\n",
    "\n",
    "def evaluate_baseline_disease(disease):\n",
    "    print(f\"Evaluating {disease}...\")\n",
    "    oasis_auroc, sapsii_auroc, sofa_auroc = [], [], []\n",
    "    oasis_auprc, sapsii_auprc, sofa_auprc = [], [], []\n",
    "    oasis_hl, sapsii_hl, sofa_hl = [], [], []\n",
    "    oasis_brier, sapsii_brier, sofa_brier = [], [], []\n",
    "    oasis_smr, sapsii_smr, sofa_smr = [], [], []\n",
    "    for fold in range(1,6):\n",
    "        test_df = pd.read_csv(f\"data/mimic-disease/k-fold-id/TEST-{disease}-fold{fold}.csv\")\n",
    "        copy = test_df[['subject_id', 'hadm_id', 'icustay_id']].copy()\n",
    "        test_df = test_df.merge(oasis_df[['subject_id', 'icustay_id', 'hadm_id', 'oasis_prob']], on=['subject_id', 'icustay_id', 'hadm_id'], how='inner')\n",
    "        test_df = test_df.merge(sapsii_df[['subject_id', 'icustay_id', 'hadm_id', 'sapsii_prob']], on=['subject_id', 'icustay_id', 'hadm_id'], how='inner')\n",
    "        test_df = test_df.merge(sofa_df[['subject_id', 'icustay_id', 'hadm_id', 'sofa_emp_prob']], on=['subject_id', 'icustay_id', 'hadm_id'], how='inner')\n",
    "        pd.testing.assert_frame_equal(test_df[['subject_id', 'hadm_id', 'icustay_id']], copy)\n",
    "        \n",
    "        fpr, tpr, _ = roc_curve(test_df['hospital_expire_flag'], test_df['oasis_prob'])\n",
    "        precision, recall, _ = precision_recall_curve(test_df['hospital_expire_flag'], test_df['oasis_prob'])\n",
    "        prob_true, prob_pred, h, p = get_calibration_curve(test_df['hospital_expire_flag'], test_df['oasis_prob'])\n",
    "        oasis_smr.append(np.sum(test_df['hospital_expire_flag'].replace({-1: 0})) / np.sum(test_df['oasis_prob']) )\n",
    "        oasis_brier.append(brier_score_loss(test_df['hospital_expire_flag'], test_df['oasis_prob']))\n",
    "        oasis_auroc.append(auc(fpr, tpr))\n",
    "        oasis_auprc.append(auc(recall, precision))\n",
    "        oasis_hl.append(h)\n",
    "        \n",
    "        fpr, tpr, _ = roc_curve(test_df['hospital_expire_flag'], test_df['sapsii_prob'])\n",
    "        precision, recall, _ = precision_recall_curve(test_df['hospital_expire_flag'], test_df['sapsii_prob'])\n",
    "        prob_true, prob_pred, h, p = get_calibration_curve(test_df['hospital_expire_flag'], test_df['sapsii_prob'], strategy='quantile')\n",
    "        sapsii_brier.append(brier_score_loss(test_df['hospital_expire_flag'], test_df['sapsii_prob']))\n",
    "        sapsii_smr.append(np.sum(test_df['hospital_expire_flag'].replace({-1: 0})) / np.sum(test_df['sapsii_prob']))\n",
    "        sapsii_auroc.append(auc(fpr, tpr))\n",
    "        sapsii_auprc.append(auc(recall, precision))\n",
    "        sapsii_hl.append(h)\n",
    "        \n",
    "        fpr, tpr, _ = roc_curve(test_df['hospital_expire_flag'], test_df['sofa_emp_prob'])\n",
    "        precision, recall, _ = precision_recall_curve(test_df['hospital_expire_flag'], test_df['sofa_emp_prob'])\n",
    "        sofa_auroc.append(auc(fpr, tpr))\n",
    "        sofa_auprc.append(auc(recall, precision))\n",
    "    \n",
    "    sofa_stats = {'auroc': sofa_auroc, 'auprc': sofa_auprc}\n",
    "    sapsii_stats = {'auroc': sapsii_auroc, \"auprc\": sapsii_auprc}\n",
    "    oasis_stats = {'auroc': oasis_auroc, \"auprc\": oasis_auprc}\n",
    "    \n",
    "    joblib.dump(sofa_stats, f\"results/disease/{disease}/sofa_stats\")\n",
    "    joblib.dump(sapsii_stats, f\"results/disease/{disease}/sapsii_stats\")\n",
    "    joblib.dump(oasis_stats, f\"results/disease/{disease}/oasis_stats\")\n",
    "        \n",
    "    print(f\"OASIS AUROC: {np.mean(oasis_auroc):.3f} +/- {np.std(oasis_auroc):.3f}\")\n",
    "    print(f\"OASIS AUPRC: {np.mean(oasis_auprc):.3f} +/- {np.std(oasis_auprc):.3f}\")\n",
    "    print(f\"OASIS HL C-stat: {np.mean(oasis_hl):.3f} +/- {np.std(oasis_hl):.3f}\")\n",
    "    print(f\"OASIS SMR: {np.mean(oasis_smr):.3f} +/- {np.std(oasis_smr):.3f}\")\n",
    "    print(f\"OASIS Brier: {np.mean(oasis_brier):.3f} +/- {np.std(oasis_brier):.3f}\\n\")\n",
    "    \n",
    "    print(f\"SAPSII AUROC: {np.mean(sapsii_auroc):.3f} +/- {np.std(sapsii_auroc):.3f}\")\n",
    "    print(f\"SAPSII AUPRC: {np.mean(sapsii_auprc):.3f} +/- {np.std(sapsii_auprc):.3f}\")\n",
    "    print(f\"SAPSII HL C-stat: {np.mean(sapsii_hl):.3f} +/- {np.std(sapsii_hl):.3f}\")\n",
    "    print(f\"SAPSII SMR: {np.mean(sapsii_smr):.3f} +/- {np.std(sapsii_smr):.3f}\")\n",
    "    print(f\"SAPSII Brier: {np.mean(sapsii_brier):.3f} +/- {np.std(sapsii_brier):.4f}\\n\")\n",
    "    \n",
    "    print(f\"SOFA AUROC: {np.mean(sofa_auroc):.3f} +/- {np.std(sofa_auroc):.3f}\")\n",
    "    print(f\"SOFA AUPRC: {np.mean(sofa_auprc):.3f} +/- {np.std(sofa_auprc):.3f}\")\n",
    "\n",
    "evaluate_baseline_disease('sepsis')"
   ]
  },
  {
   "cell_type": "code",
   "execution_count": null,
   "metadata": {},
   "outputs": [],
   "source": [
    "evaluate_baseline_disease('akf')"
   ]
  },
  {
   "cell_type": "code",
   "execution_count": null,
   "metadata": {},
   "outputs": [],
   "source": [
    "evaluate_baseline_disease('ami')"
   ]
  },
  {
   "cell_type": "code",
   "execution_count": null,
   "metadata": {},
   "outputs": [],
   "source": [
    "evaluate_baseline_disease('heart_failure')"
   ]
  }
 ],
 "metadata": {
  "kernelspec": {
   "display_name": "474",
   "language": "python",
   "name": "python3"
  },
  "language_info": {
   "codemirror_mode": {
    "name": "ipython",
    "version": 3
   },
   "file_extension": ".py",
   "mimetype": "text/x-python",
   "name": "python",
   "nbconvert_exporter": "python",
   "pygments_lexer": "ipython3",
   "version": "3.9.16"
  },
  "orig_nbformat": 4
 },
 "nbformat": 4,
 "nbformat_minor": 2
}
