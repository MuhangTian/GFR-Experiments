{
 "cells": [
  {
   "attachments": {},
   "cell_type": "markdown",
   "metadata": {},
   "source": [
    "# Check Union Features on eICU and Include Baselines"
   ]
  },
  {
   "cell_type": "code",
   "execution_count": null,
   "metadata": {},
   "outputs": [],
   "source": [
    "import mimic_pipeline as mmp\n",
    "import mimic_pipeline.utils as utils"
   ]
  },
  {
   "cell_type": "code",
   "execution_count": null,
   "metadata": {},
   "outputs": [],
   "source": [
    "user = input(\"Enter your username: \")\n",
    "password = input(\"Enter your password: \")\n",
    "loader = utils.DataBaseLoader(user=user, password=password, dbname='eicu', schema='eicu')"
   ]
  },
  {
   "cell_type": "code",
   "execution_count": null,
   "metadata": {},
   "outputs": [],
   "source": [
    "union_df = loader['union_features']\n",
    "print(union_df.shape)\n",
    "union_df.head()"
   ]
  },
  {
   "cell_type": "code",
   "execution_count": null,
   "metadata": {},
   "outputs": [],
   "source": [
    "mmp.preprocess.plot_nan_summary(union_df, tolerance=0.001)"
   ]
  },
  {
   "cell_type": "code",
   "execution_count": null,
   "metadata": {},
   "outputs": [],
   "source": [
    "baselines_df = loader['baselines']\n",
    "print(baselines_df.shape)\n",
    "baselines_df.head()"
   ]
  },
  {
   "cell_type": "code",
   "execution_count": null,
   "metadata": {},
   "outputs": [],
   "source": [
    "union_prep_df = baselines_df.merge(union_df, on=['uniquepid', 'patientunitstayid'], how='inner')\n",
    "print(union_prep_df.shape)\n",
    "union_prep_df.head()"
   ]
  },
  {
   "cell_type": "code",
   "execution_count": null,
   "metadata": {},
   "outputs": [],
   "source": [
    "import pandas as pd\n",
    "pd.testing.assert_series_equal(union_prep_df['actualhospitalmortality'], union_prep_df['hospital_expire_flag'], check_names=False)"
   ]
  },
  {
   "cell_type": "code",
   "execution_count": null,
   "metadata": {},
   "outputs": [],
   "source": [
    "union_prep_df = union_prep_df.drop(columns=['actualhospitalmortality'])\n",
    "union_prep_df.head()"
   ]
  },
  {
   "cell_type": "code",
   "execution_count": null,
   "metadata": {},
   "outputs": [],
   "source": [
    "mmp.preprocess.plot_nan_summary(union_prep_df, tolerance=0.001)"
   ]
  },
  {
   "cell_type": "code",
   "execution_count": null,
   "metadata": {},
   "outputs": [],
   "source": [
    "assert union_prep_df['uniquepid'].is_unique\n",
    "assert union_prep_df['patientunitstayid'].is_unique"
   ]
  },
  {
   "attachments": {},
   "cell_type": "markdown",
   "metadata": {},
   "source": [
    "check age"
   ]
  },
  {
   "cell_type": "code",
   "execution_count": null,
   "metadata": {},
   "outputs": [],
   "source": [
    "union_prep_df['age'].describe()"
   ]
  },
  {
   "cell_type": "code",
   "execution_count": null,
   "metadata": {},
   "outputs": [],
   "source": [
    "union_prep_df['admissiontype'] = union_prep_df['admissiontype'].replace({'ScheduledSurgical': 0, 'Medical': 1, 'UnscheduledSurgical': 2})\n",
    "union_prep_df.to_csv('data/eICU-union.csv', index=False)"
   ]
  },
  {
   "attachments": {},
   "cell_type": "markdown",
   "metadata": {},
   "source": [
    "patients"
   ]
  },
  {
   "cell_type": "code",
   "execution_count": null,
   "metadata": {},
   "outputs": [],
   "source": [
    "print(len(union_prep_df['uniquepid'].unique()))\n",
    "print(len(union_prep_df['patientunitstayid'].unique()))"
   ]
  }
 ],
 "metadata": {
  "kernelspec": {
   "display_name": "474",
   "language": "python",
   "name": "python3"
  },
  "language_info": {
   "codemirror_mode": {
    "name": "ipython",
    "version": 3
   },
   "file_extension": ".py",
   "mimetype": "text/x-python",
   "name": "python",
   "nbconvert_exporter": "python",
   "pygments_lexer": "ipython3",
   "version": "3.9.16"
  },
  "orig_nbformat": 4
 },
 "nbformat": 4,
 "nbformat_minor": 2
}
