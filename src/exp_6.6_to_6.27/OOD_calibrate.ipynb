{
 "cells": [
  {
   "attachments": {},
   "cell_type": "markdown",
   "metadata": {},
   "source": [
    "# Calibrate Trained FasterRisk on eICU dataset"
   ]
  },
  {
   "cell_type": "code",
   "execution_count": null,
   "metadata": {},
   "outputs": [],
   "source": [
    "import mimic_pipeline.utils as utils\n",
    "from mimic_pipeline.metric import get_calibration_curve, get_model_size\n",
    "import seaborn as sns\n",
    "import matplotlib.pyplot as plt\n",
    "from sklearn.metrics import brier_score_loss\n",
    "from sklearn.isotonic import IsotonicRegression\n",
    "from sklearn.linear_model import LogisticRegression\n",
    "from sklearn.model_selection import train_test_split\n",
    "import pandas as pd\n",
    "import numpy as np\n",
    "\n",
    "eicu_df = pd.read_csv('data/eICU-union.csv')\n",
    "print(eicu_df.shape)\n",
    "eicu_df.head()"
   ]
  },
  {
   "cell_type": "code",
   "execution_count": null,
   "metadata": {},
   "outputs": [],
   "source": [
    "X_test, y_test = eicu_df.drop('hospital_expire_flag', axis=1), eicu_df['hospital_expire_flag']\n",
    "X_test.shape"
   ]
  },
  {
   "cell_type": "code",
   "execution_count": null,
   "metadata": {},
   "outputs": [],
   "source": [
    "X_rest, X_cali, y_rest, y_cali = train_test_split(X_test, y_test, test_size=2000, random_state=utils.SEED, stratify=y_test)     # use 2000 patients as calibration set\n",
    "oasis_rest_prob, sapsii_rest_prob, apacheiv_rest_prob, apacheiva_rest_prob = X_rest['oasis_prob'], X_rest['sapsii_prob'], X_rest['apache_iv_prob'], X_rest['apache_iva_prob']\n",
    "oasis_cali_prob, sapsii_cali_prob, apacheiv_cali_prob, apacheiva_cali_prob = X_cali['oasis_prob'], X_cali['sapsii_prob'], X_cali['apache_iv_prob'], X_cali['apache_iva_prob']"
   ]
  },
  {
   "cell_type": "code",
   "execution_count": null,
   "metadata": {},
   "outputs": [],
   "source": [
    "print(X_rest.shape)\n",
    "X_rest.head()"
   ]
  },
  {
   "cell_type": "code",
   "execution_count": null,
   "metadata": {},
   "outputs": [],
   "source": [
    "print(X_cali.shape)\n",
    "X_cali.head()"
   ]
  },
  {
   "cell_type": "code",
   "execution_count": null,
   "metadata": {},
   "outputs": [],
   "source": [
    "rest = pd.concat([X_rest, y_rest], axis=1)\n",
    "cali = pd.concat([X_cali, y_cali], axis=1)\n",
    "rest.to_csv('data/eICU-union-noncali.csv', index=False)\n",
    "cali.to_csv('data/eICU-union-cali.csv', index=False)"
   ]
  },
  {
   "cell_type": "code",
   "execution_count": null,
   "metadata": {},
   "outputs": [],
   "source": [
    "X_rest = X_rest.drop(['uniquepid', 'patientunitstayid', 'apache_iv_prob', 'apache_iva_prob', 'oasis_prob', 'sapsii_prob'], axis=1)\n",
    "X_cali = X_cali.drop(['uniquepid', 'patientunitstayid', 'apache_iv_prob', 'apache_iva_prob', 'oasis_prob', 'sapsii_prob'], axis=1)"
   ]
  },
  {
   "cell_type": "code",
   "execution_count": null,
   "metadata": {},
   "outputs": [],
   "source": [
    "\n",
    "import joblib\n",
    "\n",
    "def calibrate_fasterrisk(X_rest, y_rest, X_cali, y_cali, group_sparsity, plot=False, method='isotonic', save=False):\n",
    "    assert  np.abs((len(y_cali[y_cali == 1]) / len(y_cali) )- ( len(y_rest[y_rest == 1]) / len(y_rest) )) < 1e-3\n",
    "    \n",
    "    fasterrisk_model = joblib.load(f\"models/fasterrisk/fasterrisk-{group_sparsity}\")\n",
    "    binarizer = joblib.load(f\"models/fasterrisk/fasterrisk-{group_sparsity}-binarizer\")\n",
    "    X_cali, _ = binarizer.transform(X_cali)\n",
    "    y_prob_cali = fasterrisk_model.predict_proba(X_cali.to_numpy())\n",
    "    print(f\"y_prob_cali_min: {np.min(y_prob_cali)}, y_prob_cali_max: {np.max(y_prob_cali)}\")\n",
    "    X_rest, _ = binarizer.transform(X_rest)\n",
    "    y_prob_rest = fasterrisk_model.predict_proba(X_rest.to_numpy())\n",
    "    print(f\"y_prob_rest_min: {np.min(y_prob_rest)}, y_prob_rest_max: {np.max(y_prob_rest)}\")\n",
    "    \n",
    "    if method == 'isotonic':\n",
    "        calibrator = IsotonicRegression(out_of_bounds='clip').fit(y_prob_cali, y_cali)\n",
    "        print(f\"Isotonic Regression Min: {calibrator.X_min_}, Max: {calibrator.X_max_}\")\n",
    "        y_prob_rest = calibrator.predict(y_prob_rest)\n",
    "    elif method == 'sigmoid':\n",
    "        calibrator = LogisticRegression(solver='lbfgs', penalty=None, random_state=utils.SEED).fit(y_prob_cali.reshape(-1, 1), y_cali)\n",
    "        assert get_model_size(calibrator) == 2\n",
    "        y_prob_rest = calibrator.predict_proba(y_prob_rest.reshape(-1, 1))[:, 1]\n",
    "    \n",
    "    if save:\n",
    "        joblib.dump(calibrator, f\"models/fasterrisk/fasterrisk-{group_sparsity}-calibrator\")\n",
    "        print(f\"SAVE: Calibrator saved to models/fasterrisk/fasterrisk-{group_sparsity}-calibrator\")\n",
    "    assert np.min(y_prob_rest) >= 0 and np.max(y_prob_rest) <= 1\n",
    "    _, _, h, p = get_calibration_curve(y_rest, y_prob_rest, strategy='quantile')\n",
    "    prob_true, prob_pred, _, _ = get_calibration_curve(y_rest, y_prob_rest)\n",
    "    \n",
    "    if plot:\n",
    "        sns.set_style(\"ticks\")\n",
    "        sns.lineplot(x=np.linspace(0,1), y=np.linspace(0,1), color='black', linestyle='--', linewidth=1)\n",
    "        ax = sns.lineplot(x=prob_pred, y=prob_true, color='red', linewidth=1, marker='s', label=f\"FasterRisk ({group_sparsity})\")\n",
    "        ax.figure.set_size_inches(7, 7)\n",
    "        plt.xlabel(\"Predicted Probability\")\n",
    "        plt.ylabel(\"True Probability\")\n",
    "        plt.legend()\n",
    "        plt.show()\n",
    "    smr = np.sum(y_test.replace({-1: 0})) / np.sum(y_prob_rest)\n",
    "    print(f\"Fasterrisk {group_sparsity}\\nBrier score: {brier_score_loss(y_rest, y_prob_rest):.3f}\\nHosmer-Lemeshow C-stat: {h:.3f}, p-value: {p:.3f}\\nSMR: {smr:.3f}\\n\")"
   ]
  },
  {
   "cell_type": "code",
   "execution_count": null,
   "metadata": {},
   "outputs": [],
   "source": [
    "def calibrate_scores(score, y_rest, y_prob_rest, y_cali, y_prob_cali, plot=False, method='isotonic', save=False):\n",
    "    assert  np.abs((len(y_cali[y_cali == 1]) / len(y_cali) )- ( len(y_rest[y_rest == 1]) / len(y_rest) )) < 1e-3\n",
    "    \n",
    "    if method == 'isotonic':\n",
    "        calibrator = IsotonicRegression(out_of_bounds='clip').fit(y_prob_cali, y_cali)\n",
    "        print(f\"Isotonic Regression Min: {calibrator.X_min_}, Max: {calibrator.X_max_}\")\n",
    "        y_prob_rest = calibrator.predict(y_prob_rest)\n",
    "    elif method == 'sigmoid':\n",
    "        calibrator = LogisticRegression(solver='lbfgs', penalty=None, random_state=utils.SEED).fit(y_prob_cali.reshape(-1, 1), y_cali)\n",
    "        assert get_model_size(calibrator) == 2\n",
    "        y_prob_rest = calibrator.predict_proba(y_prob_rest.reshape(-1, 1))[:, 1]\n",
    "    \n",
    "    if save:\n",
    "        joblib.dump(calibrator, f\"models/{score}-calibrator\")\n",
    "        print(f\"SAVE: Calibrator saved to models/{score}-calibrator\")\n",
    "    assert np.min(y_prob_rest) >= 0 and np.max(y_prob_rest) <= 1\n",
    "    _, _, h, p = get_calibration_curve(y_rest, y_prob_rest, strategy='quantile')\n",
    "    prob_true, prob_pred, _, _ = get_calibration_curve(y_rest, y_prob_rest)\n",
    "    \n",
    "    if plot:\n",
    "        sns.set_style(\"ticks\")\n",
    "        sns.lineplot(x=np.linspace(0,1), y=np.linspace(0,1), color='black', linestyle='--', linewidth=1)\n",
    "        ax = sns.lineplot(x=prob_pred, y=prob_true, color='red', linewidth=1, marker='s', label=f\"{score}\")\n",
    "        ax.figure.set_size_inches(7, 7)\n",
    "        plt.xlabel(\"Predicted Probability\")\n",
    "        plt.ylabel(\"True Probability\")\n",
    "        plt.legend()\n",
    "        plt.show()\n",
    "    smr = np.sum(y_test.replace({-1: 0})) / np.sum(y_prob_rest)\n",
    "    print(f\"{score}\\nBrier score: {brier_score_loss(y_rest, y_prob_rest):.3f}\\nHosmer-Lemeshow C-stat: {h:.3f}, p-value: {p:.3f}\\nSMR: {smr:.3f}\\n\")\n",
    "\n",
    "calibrate_scores(score='oasis_prob', y_rest=y_rest, y_prob_rest=oasis_rest_prob, y_cali=y_cali, y_prob_cali=oasis_cali_prob, plot=True, save=True)\n",
    "calibrate_scores(score='sapsii_prob', y_rest=y_rest, y_prob_rest=sapsii_rest_prob, y_cali=y_cali, y_prob_cali=sapsii_cali_prob, plot=True, save=True)\n",
    "calibrate_scores(score='apache_iv_prob', y_rest=y_rest, y_prob_rest=apacheiv_rest_prob, y_cali=y_cali, y_prob_cali=apacheiv_cali_prob, plot=True, save=True)\n",
    "calibrate_scores(score='apache_iva_prob', y_rest=y_rest, y_prob_rest=apacheiva_rest_prob, y_cali=y_cali, y_prob_cali=apacheiva_cali_prob, plot=True, save=True)"
   ]
  },
  {
   "cell_type": "code",
   "execution_count": null,
   "metadata": {},
   "outputs": [],
   "source": [
    "calibrate_fasterrisk(X_rest, y_rest, X_cali, y_cali, group_sparsity=40, plot=True, method='isotonic', save=True)\n",
    "calibrate_fasterrisk(X_rest, y_rest, X_cali, y_cali, group_sparsity=15, plot=True, method='isotonic', save=True)\n",
    "calibrate_fasterrisk(X_rest, y_rest, X_cali, y_cali, group_sparsity=10, plot=True, method='isotonic', save=True)"
   ]
  }
 ],
 "metadata": {
  "kernelspec": {
   "display_name": "474",
   "language": "python",
   "name": "python3"
  },
  "language_info": {
   "codemirror_mode": {
    "name": "ipython",
    "version": 3
   },
   "file_extension": ".py",
   "mimetype": "text/x-python",
   "name": "python",
   "nbconvert_exporter": "python",
   "pygments_lexer": "ipython3",
   "version": "3.9.16"
  },
  "orig_nbformat": 4
 },
 "nbformat": 4,
 "nbformat_minor": 2
}
